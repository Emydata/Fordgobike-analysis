{
 "cells": [
  {
   "cell_type": "markdown",
   "id": "dc73a16b",
   "metadata": {},
   "source": [
    "# Part 1 Data Exploration\n",
    "BY: EMEM ASUQUO"
   ]
  },
  {
   "cell_type": "markdown",
   "id": "a1cc9dcc",
   "metadata": {},
   "source": [
    "## Introduction\n",
    "The Ford GoBike System Data is a dataset which includes information about individual rides made in a bike-sharing system covering the greater San-Francisco Bay area. "
   ]
  },
  {
   "cell_type": "markdown",
   "id": "48c1d0c9",
   "metadata": {},
   "source": [
    "## Preliminary Wrangling"
   ]
  },
  {
   "cell_type": "code",
   "execution_count": 138,
   "id": "200cd225",
   "metadata": {},
   "outputs": [],
   "source": [
    "import numpy as np\n",
    "import pandas as pd\n",
    "import matplotlib.pyplot as plt\n",
    "import seaborn as sns\n",
    "\n",
    "\n",
    "%matplotlib inline"
   ]
  },
  {
   "cell_type": "code",
   "execution_count": 139,
   "id": "c3d5a0b9",
   "metadata": {},
   "outputs": [
    {
     "data": {
      "text/html": [
       "<div>\n",
       "<style scoped>\n",
       "    .dataframe tbody tr th:only-of-type {\n",
       "        vertical-align: middle;\n",
       "    }\n",
       "\n",
       "    .dataframe tbody tr th {\n",
       "        vertical-align: top;\n",
       "    }\n",
       "\n",
       "    .dataframe thead th {\n",
       "        text-align: right;\n",
       "    }\n",
       "</style>\n",
       "<table border=\"1\" class=\"dataframe\">\n",
       "  <thead>\n",
       "    <tr style=\"text-align: right;\">\n",
       "      <th></th>\n",
       "      <th>duration_sec</th>\n",
       "      <th>start_time</th>\n",
       "      <th>end_time</th>\n",
       "      <th>start_station_id</th>\n",
       "      <th>start_station_name</th>\n",
       "      <th>start_station_latitude</th>\n",
       "      <th>start_station_longitude</th>\n",
       "      <th>end_station_id</th>\n",
       "      <th>end_station_name</th>\n",
       "      <th>end_station_latitude</th>\n",
       "      <th>end_station_longitude</th>\n",
       "      <th>bike_id</th>\n",
       "      <th>user_type</th>\n",
       "      <th>member_birth_year</th>\n",
       "      <th>member_gender</th>\n",
       "      <th>bike_share_for_all_trip</th>\n",
       "    </tr>\n",
       "  </thead>\n",
       "  <tbody>\n",
       "    <tr>\n",
       "      <th>0</th>\n",
       "      <td>52185</td>\n",
       "      <td>2019-02-28 17:32:10.1450</td>\n",
       "      <td>2019-03-01 08:01:55.9750</td>\n",
       "      <td>21.0</td>\n",
       "      <td>Montgomery St BART Station (Market St at 2nd St)</td>\n",
       "      <td>37.789625</td>\n",
       "      <td>-122.400811</td>\n",
       "      <td>13.0</td>\n",
       "      <td>Commercial St at Montgomery St</td>\n",
       "      <td>37.794231</td>\n",
       "      <td>-122.402923</td>\n",
       "      <td>4902</td>\n",
       "      <td>Customer</td>\n",
       "      <td>1984.0</td>\n",
       "      <td>Male</td>\n",
       "      <td>No</td>\n",
       "    </tr>\n",
       "    <tr>\n",
       "      <th>1</th>\n",
       "      <td>42521</td>\n",
       "      <td>2019-02-28 18:53:21.7890</td>\n",
       "      <td>2019-03-01 06:42:03.0560</td>\n",
       "      <td>23.0</td>\n",
       "      <td>The Embarcadero at Steuart St</td>\n",
       "      <td>37.791464</td>\n",
       "      <td>-122.391034</td>\n",
       "      <td>81.0</td>\n",
       "      <td>Berry St at 4th St</td>\n",
       "      <td>37.775880</td>\n",
       "      <td>-122.393170</td>\n",
       "      <td>2535</td>\n",
       "      <td>Customer</td>\n",
       "      <td>NaN</td>\n",
       "      <td>NaN</td>\n",
       "      <td>No</td>\n",
       "    </tr>\n",
       "    <tr>\n",
       "      <th>2</th>\n",
       "      <td>61854</td>\n",
       "      <td>2019-02-28 12:13:13.2180</td>\n",
       "      <td>2019-03-01 05:24:08.1460</td>\n",
       "      <td>86.0</td>\n",
       "      <td>Market St at Dolores St</td>\n",
       "      <td>37.769305</td>\n",
       "      <td>-122.426826</td>\n",
       "      <td>3.0</td>\n",
       "      <td>Powell St BART Station (Market St at 4th St)</td>\n",
       "      <td>37.786375</td>\n",
       "      <td>-122.404904</td>\n",
       "      <td>5905</td>\n",
       "      <td>Customer</td>\n",
       "      <td>1972.0</td>\n",
       "      <td>Male</td>\n",
       "      <td>No</td>\n",
       "    </tr>\n",
       "    <tr>\n",
       "      <th>3</th>\n",
       "      <td>36490</td>\n",
       "      <td>2019-02-28 17:54:26.0100</td>\n",
       "      <td>2019-03-01 04:02:36.8420</td>\n",
       "      <td>375.0</td>\n",
       "      <td>Grove St at Masonic Ave</td>\n",
       "      <td>37.774836</td>\n",
       "      <td>-122.446546</td>\n",
       "      <td>70.0</td>\n",
       "      <td>Central Ave at Fell St</td>\n",
       "      <td>37.773311</td>\n",
       "      <td>-122.444293</td>\n",
       "      <td>6638</td>\n",
       "      <td>Subscriber</td>\n",
       "      <td>1989.0</td>\n",
       "      <td>Other</td>\n",
       "      <td>No</td>\n",
       "    </tr>\n",
       "    <tr>\n",
       "      <th>4</th>\n",
       "      <td>1585</td>\n",
       "      <td>2019-02-28 23:54:18.5490</td>\n",
       "      <td>2019-03-01 00:20:44.0740</td>\n",
       "      <td>7.0</td>\n",
       "      <td>Frank H Ogawa Plaza</td>\n",
       "      <td>37.804562</td>\n",
       "      <td>-122.271738</td>\n",
       "      <td>222.0</td>\n",
       "      <td>10th Ave at E 15th St</td>\n",
       "      <td>37.792714</td>\n",
       "      <td>-122.248780</td>\n",
       "      <td>4898</td>\n",
       "      <td>Subscriber</td>\n",
       "      <td>1974.0</td>\n",
       "      <td>Male</td>\n",
       "      <td>Yes</td>\n",
       "    </tr>\n",
       "  </tbody>\n",
       "</table>\n",
       "</div>"
      ],
      "text/plain": [
       "   duration_sec                start_time                  end_time  \\\n",
       "0         52185  2019-02-28 17:32:10.1450  2019-03-01 08:01:55.9750   \n",
       "1         42521  2019-02-28 18:53:21.7890  2019-03-01 06:42:03.0560   \n",
       "2         61854  2019-02-28 12:13:13.2180  2019-03-01 05:24:08.1460   \n",
       "3         36490  2019-02-28 17:54:26.0100  2019-03-01 04:02:36.8420   \n",
       "4          1585  2019-02-28 23:54:18.5490  2019-03-01 00:20:44.0740   \n",
       "\n",
       "   start_station_id                                start_station_name  \\\n",
       "0              21.0  Montgomery St BART Station (Market St at 2nd St)   \n",
       "1              23.0                     The Embarcadero at Steuart St   \n",
       "2              86.0                           Market St at Dolores St   \n",
       "3             375.0                           Grove St at Masonic Ave   \n",
       "4               7.0                               Frank H Ogawa Plaza   \n",
       "\n",
       "   start_station_latitude  start_station_longitude  end_station_id  \\\n",
       "0               37.789625              -122.400811            13.0   \n",
       "1               37.791464              -122.391034            81.0   \n",
       "2               37.769305              -122.426826             3.0   \n",
       "3               37.774836              -122.446546            70.0   \n",
       "4               37.804562              -122.271738           222.0   \n",
       "\n",
       "                               end_station_name  end_station_latitude  \\\n",
       "0                Commercial St at Montgomery St             37.794231   \n",
       "1                            Berry St at 4th St             37.775880   \n",
       "2  Powell St BART Station (Market St at 4th St)             37.786375   \n",
       "3                        Central Ave at Fell St             37.773311   \n",
       "4                         10th Ave at E 15th St             37.792714   \n",
       "\n",
       "   end_station_longitude  bike_id   user_type  member_birth_year  \\\n",
       "0            -122.402923     4902    Customer             1984.0   \n",
       "1            -122.393170     2535    Customer                NaN   \n",
       "2            -122.404904     5905    Customer             1972.0   \n",
       "3            -122.444293     6638  Subscriber             1989.0   \n",
       "4            -122.248780     4898  Subscriber             1974.0   \n",
       "\n",
       "  member_gender bike_share_for_all_trip  \n",
       "0          Male                      No  \n",
       "1           NaN                      No  \n",
       "2          Male                      No  \n",
       "3         Other                      No  \n",
       "4          Male                     Yes  "
      ]
     },
     "execution_count": 139,
     "metadata": {},
     "output_type": "execute_result"
    }
   ],
   "source": [
    "# Lets load the Dataset into Pandas dataframe\n",
    "bike_df = pd.read_csv(r'/Users/emmanuelokon/Downloads/201902-fordgobike-tripdata (1).csv')\n",
    "bike_df.head()"
   ]
  },
  {
   "cell_type": "code",
   "execution_count": 140,
   "id": "297fe2dd",
   "metadata": {},
   "outputs": [
    {
     "data": {
      "text/plain": [
       "(183412, 16)"
      ]
     },
     "execution_count": 140,
     "metadata": {},
     "output_type": "execute_result"
    }
   ],
   "source": [
    "bike_df.shape"
   ]
  },
  {
   "cell_type": "markdown",
   "id": "df0ed3e9",
   "metadata": {},
   "source": [
    "## The Structure of the dataset \n",
    "The dataset consists of 183,412 rows and 16 columns."
   ]
  },
  {
   "cell_type": "code",
   "execution_count": 141,
   "id": "0ff91314",
   "metadata": {},
   "outputs": [
    {
     "name": "stdout",
     "output_type": "stream",
     "text": [
      "<class 'pandas.core.frame.DataFrame'>\n",
      "RangeIndex: 183412 entries, 0 to 183411\n",
      "Data columns (total 16 columns):\n",
      " #   Column                   Non-Null Count   Dtype  \n",
      "---  ------                   --------------   -----  \n",
      " 0   duration_sec             183412 non-null  int64  \n",
      " 1   start_time               183412 non-null  object \n",
      " 2   end_time                 183412 non-null  object \n",
      " 3   start_station_id         183215 non-null  float64\n",
      " 4   start_station_name       183215 non-null  object \n",
      " 5   start_station_latitude   183412 non-null  float64\n",
      " 6   start_station_longitude  183412 non-null  float64\n",
      " 7   end_station_id           183215 non-null  float64\n",
      " 8   end_station_name         183215 non-null  object \n",
      " 9   end_station_latitude     183412 non-null  float64\n",
      " 10  end_station_longitude    183412 non-null  float64\n",
      " 11  bike_id                  183412 non-null  int64  \n",
      " 12  user_type                183412 non-null  object \n",
      " 13  member_birth_year        175147 non-null  float64\n",
      " 14  member_gender            175147 non-null  object \n",
      " 15  bike_share_for_all_trip  183412 non-null  object \n",
      "dtypes: float64(7), int64(2), object(7)\n",
      "memory usage: 22.4+ MB\n"
     ]
    }
   ],
   "source": [
    "bike_df.info()"
   ]
  },
  {
   "cell_type": "markdown",
   "id": "7412aebe",
   "metadata": {},
   "source": [
    "## Data Cleaning \n",
    "1. Change the data type of start_time and end_time to DateTime datatype.\n",
    "2. Change the datatype of bike_share_for_all_trip to boolean.\n",
    "3. Create new columns (Start_hour, start_day, start_month) from start_time.\n",
    "4. Change Duration_sec to minutes."
   ]
  },
  {
   "cell_type": "code",
   "execution_count": 142,
   "id": "8ff84aa6",
   "metadata": {},
   "outputs": [],
   "source": [
    "bike_df1=bike_df.copy()"
   ]
  },
  {
   "cell_type": "code",
   "execution_count": 143,
   "id": "646a31c6",
   "metadata": {},
   "outputs": [
    {
     "data": {
      "text/plain": [
       "0"
      ]
     },
     "execution_count": 143,
     "metadata": {},
     "output_type": "execute_result"
    }
   ],
   "source": [
    "# Checking for duplicates\n",
    "sum(bike_df1.duplicated())"
   ]
  },
  {
   "cell_type": "code",
   "execution_count": 144,
   "id": "9dae80b8",
   "metadata": {},
   "outputs": [],
   "source": [
    "# Change the datatype of start_time and end_time to DateTime datatype\n",
    "bike_df1.start_time=pd.to_datetime(bike_df1.start_time)\n",
    "bike_df1.end_time=pd.to_datetime(bike_df1.end_time)"
   ]
  },
  {
   "cell_type": "code",
   "execution_count": 145,
   "id": "90ddad84",
   "metadata": {},
   "outputs": [],
   "source": [
    "# Change the datatype of bike_share_for_all_trip to boolean.\n",
    "bike_df1.bike_share_for_all_trip=(bike_df1.bike_share_for_all_trip =='Yes')"
   ]
  },
  {
   "cell_type": "code",
   "execution_count": 146,
   "id": "461d6c49",
   "metadata": {},
   "outputs": [
    {
     "name": "stdout",
     "output_type": "stream",
     "text": [
      "<class 'pandas.core.frame.DataFrame'>\n",
      "RangeIndex: 183412 entries, 0 to 183411\n",
      "Data columns (total 16 columns):\n",
      " #   Column                   Non-Null Count   Dtype         \n",
      "---  ------                   --------------   -----         \n",
      " 0   duration_sec             183412 non-null  int64         \n",
      " 1   start_time               183412 non-null  datetime64[ns]\n",
      " 2   end_time                 183412 non-null  datetime64[ns]\n",
      " 3   start_station_id         183215 non-null  float64       \n",
      " 4   start_station_name       183215 non-null  object        \n",
      " 5   start_station_latitude   183412 non-null  float64       \n",
      " 6   start_station_longitude  183412 non-null  float64       \n",
      " 7   end_station_id           183215 non-null  float64       \n",
      " 8   end_station_name         183215 non-null  object        \n",
      " 9   end_station_latitude     183412 non-null  float64       \n",
      " 10  end_station_longitude    183412 non-null  float64       \n",
      " 11  bike_id                  183412 non-null  int64         \n",
      " 12  user_type                183412 non-null  object        \n",
      " 13  member_birth_year        175147 non-null  float64       \n",
      " 14  member_gender            175147 non-null  object        \n",
      " 15  bike_share_for_all_trip  183412 non-null  bool          \n",
      "dtypes: bool(1), datetime64[ns](2), float64(7), int64(2), object(4)\n",
      "memory usage: 21.2+ MB\n"
     ]
    }
   ],
   "source": [
    "# Test the Data cleaning\n",
    "bike_df1.info()"
   ]
  },
  {
   "cell_type": "code",
   "execution_count": 147,
   "id": "b12976a1",
   "metadata": {},
   "outputs": [],
   "source": [
    "# Create new columns (Start_hour, start_day, start_month) from start_time.\n",
    "bike_df1['start_hour']=bike_df1.start_time.dt.hour\n",
    "bike_df1['start_day']=bike_df1.start_time.dt.weekday\n",
    "bike_df1['start_month']=bike_df1.start_time.dt.month"
   ]
  },
  {
   "cell_type": "code",
   "execution_count": 148,
   "id": "3ac6c0b8",
   "metadata": {},
   "outputs": [
    {
     "data": {
      "text/html": [
       "<div>\n",
       "<style scoped>\n",
       "    .dataframe tbody tr th:only-of-type {\n",
       "        vertical-align: middle;\n",
       "    }\n",
       "\n",
       "    .dataframe tbody tr th {\n",
       "        vertical-align: top;\n",
       "    }\n",
       "\n",
       "    .dataframe thead th {\n",
       "        text-align: right;\n",
       "    }\n",
       "</style>\n",
       "<table border=\"1\" class=\"dataframe\">\n",
       "  <thead>\n",
       "    <tr style=\"text-align: right;\">\n",
       "      <th></th>\n",
       "      <th>duration_sec</th>\n",
       "      <th>start_time</th>\n",
       "      <th>end_time</th>\n",
       "      <th>start_station_id</th>\n",
       "      <th>start_station_name</th>\n",
       "      <th>start_station_latitude</th>\n",
       "      <th>start_station_longitude</th>\n",
       "      <th>end_station_id</th>\n",
       "      <th>end_station_name</th>\n",
       "      <th>end_station_latitude</th>\n",
       "      <th>end_station_longitude</th>\n",
       "      <th>bike_id</th>\n",
       "      <th>user_type</th>\n",
       "      <th>member_birth_year</th>\n",
       "      <th>member_gender</th>\n",
       "      <th>bike_share_for_all_trip</th>\n",
       "      <th>start_hour</th>\n",
       "      <th>start_day</th>\n",
       "      <th>start_month</th>\n",
       "    </tr>\n",
       "  </thead>\n",
       "  <tbody>\n",
       "    <tr>\n",
       "      <th>0</th>\n",
       "      <td>52185</td>\n",
       "      <td>2019-02-28 17:32:10.145</td>\n",
       "      <td>2019-03-01 08:01:55.975</td>\n",
       "      <td>21.0</td>\n",
       "      <td>Montgomery St BART Station (Market St at 2nd St)</td>\n",
       "      <td>37.789625</td>\n",
       "      <td>-122.400811</td>\n",
       "      <td>13.0</td>\n",
       "      <td>Commercial St at Montgomery St</td>\n",
       "      <td>37.794231</td>\n",
       "      <td>-122.402923</td>\n",
       "      <td>4902</td>\n",
       "      <td>Customer</td>\n",
       "      <td>1984.0</td>\n",
       "      <td>Male</td>\n",
       "      <td>False</td>\n",
       "      <td>17</td>\n",
       "      <td>3</td>\n",
       "      <td>2</td>\n",
       "    </tr>\n",
       "    <tr>\n",
       "      <th>1</th>\n",
       "      <td>42521</td>\n",
       "      <td>2019-02-28 18:53:21.789</td>\n",
       "      <td>2019-03-01 06:42:03.056</td>\n",
       "      <td>23.0</td>\n",
       "      <td>The Embarcadero at Steuart St</td>\n",
       "      <td>37.791464</td>\n",
       "      <td>-122.391034</td>\n",
       "      <td>81.0</td>\n",
       "      <td>Berry St at 4th St</td>\n",
       "      <td>37.775880</td>\n",
       "      <td>-122.393170</td>\n",
       "      <td>2535</td>\n",
       "      <td>Customer</td>\n",
       "      <td>NaN</td>\n",
       "      <td>NaN</td>\n",
       "      <td>False</td>\n",
       "      <td>18</td>\n",
       "      <td>3</td>\n",
       "      <td>2</td>\n",
       "    </tr>\n",
       "    <tr>\n",
       "      <th>2</th>\n",
       "      <td>61854</td>\n",
       "      <td>2019-02-28 12:13:13.218</td>\n",
       "      <td>2019-03-01 05:24:08.146</td>\n",
       "      <td>86.0</td>\n",
       "      <td>Market St at Dolores St</td>\n",
       "      <td>37.769305</td>\n",
       "      <td>-122.426826</td>\n",
       "      <td>3.0</td>\n",
       "      <td>Powell St BART Station (Market St at 4th St)</td>\n",
       "      <td>37.786375</td>\n",
       "      <td>-122.404904</td>\n",
       "      <td>5905</td>\n",
       "      <td>Customer</td>\n",
       "      <td>1972.0</td>\n",
       "      <td>Male</td>\n",
       "      <td>False</td>\n",
       "      <td>12</td>\n",
       "      <td>3</td>\n",
       "      <td>2</td>\n",
       "    </tr>\n",
       "    <tr>\n",
       "      <th>3</th>\n",
       "      <td>36490</td>\n",
       "      <td>2019-02-28 17:54:26.010</td>\n",
       "      <td>2019-03-01 04:02:36.842</td>\n",
       "      <td>375.0</td>\n",
       "      <td>Grove St at Masonic Ave</td>\n",
       "      <td>37.774836</td>\n",
       "      <td>-122.446546</td>\n",
       "      <td>70.0</td>\n",
       "      <td>Central Ave at Fell St</td>\n",
       "      <td>37.773311</td>\n",
       "      <td>-122.444293</td>\n",
       "      <td>6638</td>\n",
       "      <td>Subscriber</td>\n",
       "      <td>1989.0</td>\n",
       "      <td>Other</td>\n",
       "      <td>False</td>\n",
       "      <td>17</td>\n",
       "      <td>3</td>\n",
       "      <td>2</td>\n",
       "    </tr>\n",
       "    <tr>\n",
       "      <th>4</th>\n",
       "      <td>1585</td>\n",
       "      <td>2019-02-28 23:54:18.549</td>\n",
       "      <td>2019-03-01 00:20:44.074</td>\n",
       "      <td>7.0</td>\n",
       "      <td>Frank H Ogawa Plaza</td>\n",
       "      <td>37.804562</td>\n",
       "      <td>-122.271738</td>\n",
       "      <td>222.0</td>\n",
       "      <td>10th Ave at E 15th St</td>\n",
       "      <td>37.792714</td>\n",
       "      <td>-122.248780</td>\n",
       "      <td>4898</td>\n",
       "      <td>Subscriber</td>\n",
       "      <td>1974.0</td>\n",
       "      <td>Male</td>\n",
       "      <td>True</td>\n",
       "      <td>23</td>\n",
       "      <td>3</td>\n",
       "      <td>2</td>\n",
       "    </tr>\n",
       "  </tbody>\n",
       "</table>\n",
       "</div>"
      ],
      "text/plain": [
       "   duration_sec              start_time                end_time  \\\n",
       "0         52185 2019-02-28 17:32:10.145 2019-03-01 08:01:55.975   \n",
       "1         42521 2019-02-28 18:53:21.789 2019-03-01 06:42:03.056   \n",
       "2         61854 2019-02-28 12:13:13.218 2019-03-01 05:24:08.146   \n",
       "3         36490 2019-02-28 17:54:26.010 2019-03-01 04:02:36.842   \n",
       "4          1585 2019-02-28 23:54:18.549 2019-03-01 00:20:44.074   \n",
       "\n",
       "   start_station_id                                start_station_name  \\\n",
       "0              21.0  Montgomery St BART Station (Market St at 2nd St)   \n",
       "1              23.0                     The Embarcadero at Steuart St   \n",
       "2              86.0                           Market St at Dolores St   \n",
       "3             375.0                           Grove St at Masonic Ave   \n",
       "4               7.0                               Frank H Ogawa Plaza   \n",
       "\n",
       "   start_station_latitude  start_station_longitude  end_station_id  \\\n",
       "0               37.789625              -122.400811            13.0   \n",
       "1               37.791464              -122.391034            81.0   \n",
       "2               37.769305              -122.426826             3.0   \n",
       "3               37.774836              -122.446546            70.0   \n",
       "4               37.804562              -122.271738           222.0   \n",
       "\n",
       "                               end_station_name  end_station_latitude  \\\n",
       "0                Commercial St at Montgomery St             37.794231   \n",
       "1                            Berry St at 4th St             37.775880   \n",
       "2  Powell St BART Station (Market St at 4th St)             37.786375   \n",
       "3                        Central Ave at Fell St             37.773311   \n",
       "4                         10th Ave at E 15th St             37.792714   \n",
       "\n",
       "   end_station_longitude  bike_id   user_type  member_birth_year  \\\n",
       "0            -122.402923     4902    Customer             1984.0   \n",
       "1            -122.393170     2535    Customer                NaN   \n",
       "2            -122.404904     5905    Customer             1972.0   \n",
       "3            -122.444293     6638  Subscriber             1989.0   \n",
       "4            -122.248780     4898  Subscriber             1974.0   \n",
       "\n",
       "  member_gender  bike_share_for_all_trip  start_hour  start_day  start_month  \n",
       "0          Male                    False          17          3            2  \n",
       "1           NaN                    False          18          3            2  \n",
       "2          Male                    False          12          3            2  \n",
       "3         Other                    False          17          3            2  \n",
       "4          Male                     True          23          3            2  "
      ]
     },
     "execution_count": 148,
     "metadata": {},
     "output_type": "execute_result"
    }
   ],
   "source": [
    "# Test\n",
    "bike_df1.head()"
   ]
  },
  {
   "cell_type": "code",
   "execution_count": 149,
   "id": "91aba3af",
   "metadata": {},
   "outputs": [
    {
     "data": {
      "text/html": [
       "<div>\n",
       "<style scoped>\n",
       "    .dataframe tbody tr th:only-of-type {\n",
       "        vertical-align: middle;\n",
       "    }\n",
       "\n",
       "    .dataframe tbody tr th {\n",
       "        vertical-align: top;\n",
       "    }\n",
       "\n",
       "    .dataframe thead th {\n",
       "        text-align: right;\n",
       "    }\n",
       "</style>\n",
       "<table border=\"1\" class=\"dataframe\">\n",
       "  <thead>\n",
       "    <tr style=\"text-align: right;\">\n",
       "      <th></th>\n",
       "      <th>duration_sec</th>\n",
       "      <th>start_time</th>\n",
       "      <th>end_time</th>\n",
       "      <th>start_station_id</th>\n",
       "      <th>start_station_name</th>\n",
       "      <th>start_station_latitude</th>\n",
       "      <th>start_station_longitude</th>\n",
       "      <th>end_station_id</th>\n",
       "      <th>end_station_name</th>\n",
       "      <th>end_station_latitude</th>\n",
       "      <th>end_station_longitude</th>\n",
       "      <th>bike_id</th>\n",
       "      <th>user_type</th>\n",
       "      <th>member_birth_year</th>\n",
       "      <th>member_gender</th>\n",
       "      <th>bike_share_for_all_trip</th>\n",
       "      <th>start_hour</th>\n",
       "      <th>start_day</th>\n",
       "      <th>start_month</th>\n",
       "      <th>duration_minutes</th>\n",
       "    </tr>\n",
       "  </thead>\n",
       "  <tbody>\n",
       "    <tr>\n",
       "      <th>0</th>\n",
       "      <td>52185</td>\n",
       "      <td>2019-02-28 17:32:10.145</td>\n",
       "      <td>2019-03-01 08:01:55.975</td>\n",
       "      <td>21.0</td>\n",
       "      <td>Montgomery St BART Station (Market St at 2nd St)</td>\n",
       "      <td>37.789625</td>\n",
       "      <td>-122.400811</td>\n",
       "      <td>13.0</td>\n",
       "      <td>Commercial St at Montgomery St</td>\n",
       "      <td>37.794231</td>\n",
       "      <td>-122.402923</td>\n",
       "      <td>4902</td>\n",
       "      <td>Customer</td>\n",
       "      <td>1984.0</td>\n",
       "      <td>Male</td>\n",
       "      <td>False</td>\n",
       "      <td>17</td>\n",
       "      <td>3</td>\n",
       "      <td>2</td>\n",
       "      <td>869.750000</td>\n",
       "    </tr>\n",
       "    <tr>\n",
       "      <th>1</th>\n",
       "      <td>42521</td>\n",
       "      <td>2019-02-28 18:53:21.789</td>\n",
       "      <td>2019-03-01 06:42:03.056</td>\n",
       "      <td>23.0</td>\n",
       "      <td>The Embarcadero at Steuart St</td>\n",
       "      <td>37.791464</td>\n",
       "      <td>-122.391034</td>\n",
       "      <td>81.0</td>\n",
       "      <td>Berry St at 4th St</td>\n",
       "      <td>37.775880</td>\n",
       "      <td>-122.393170</td>\n",
       "      <td>2535</td>\n",
       "      <td>Customer</td>\n",
       "      <td>NaN</td>\n",
       "      <td>NaN</td>\n",
       "      <td>False</td>\n",
       "      <td>18</td>\n",
       "      <td>3</td>\n",
       "      <td>2</td>\n",
       "      <td>708.683333</td>\n",
       "    </tr>\n",
       "    <tr>\n",
       "      <th>2</th>\n",
       "      <td>61854</td>\n",
       "      <td>2019-02-28 12:13:13.218</td>\n",
       "      <td>2019-03-01 05:24:08.146</td>\n",
       "      <td>86.0</td>\n",
       "      <td>Market St at Dolores St</td>\n",
       "      <td>37.769305</td>\n",
       "      <td>-122.426826</td>\n",
       "      <td>3.0</td>\n",
       "      <td>Powell St BART Station (Market St at 4th St)</td>\n",
       "      <td>37.786375</td>\n",
       "      <td>-122.404904</td>\n",
       "      <td>5905</td>\n",
       "      <td>Customer</td>\n",
       "      <td>1972.0</td>\n",
       "      <td>Male</td>\n",
       "      <td>False</td>\n",
       "      <td>12</td>\n",
       "      <td>3</td>\n",
       "      <td>2</td>\n",
       "      <td>1030.900000</td>\n",
       "    </tr>\n",
       "    <tr>\n",
       "      <th>3</th>\n",
       "      <td>36490</td>\n",
       "      <td>2019-02-28 17:54:26.010</td>\n",
       "      <td>2019-03-01 04:02:36.842</td>\n",
       "      <td>375.0</td>\n",
       "      <td>Grove St at Masonic Ave</td>\n",
       "      <td>37.774836</td>\n",
       "      <td>-122.446546</td>\n",
       "      <td>70.0</td>\n",
       "      <td>Central Ave at Fell St</td>\n",
       "      <td>37.773311</td>\n",
       "      <td>-122.444293</td>\n",
       "      <td>6638</td>\n",
       "      <td>Subscriber</td>\n",
       "      <td>1989.0</td>\n",
       "      <td>Other</td>\n",
       "      <td>False</td>\n",
       "      <td>17</td>\n",
       "      <td>3</td>\n",
       "      <td>2</td>\n",
       "      <td>608.166667</td>\n",
       "    </tr>\n",
       "    <tr>\n",
       "      <th>4</th>\n",
       "      <td>1585</td>\n",
       "      <td>2019-02-28 23:54:18.549</td>\n",
       "      <td>2019-03-01 00:20:44.074</td>\n",
       "      <td>7.0</td>\n",
       "      <td>Frank H Ogawa Plaza</td>\n",
       "      <td>37.804562</td>\n",
       "      <td>-122.271738</td>\n",
       "      <td>222.0</td>\n",
       "      <td>10th Ave at E 15th St</td>\n",
       "      <td>37.792714</td>\n",
       "      <td>-122.248780</td>\n",
       "      <td>4898</td>\n",
       "      <td>Subscriber</td>\n",
       "      <td>1974.0</td>\n",
       "      <td>Male</td>\n",
       "      <td>True</td>\n",
       "      <td>23</td>\n",
       "      <td>3</td>\n",
       "      <td>2</td>\n",
       "      <td>26.416667</td>\n",
       "    </tr>\n",
       "  </tbody>\n",
       "</table>\n",
       "</div>"
      ],
      "text/plain": [
       "   duration_sec              start_time                end_time  \\\n",
       "0         52185 2019-02-28 17:32:10.145 2019-03-01 08:01:55.975   \n",
       "1         42521 2019-02-28 18:53:21.789 2019-03-01 06:42:03.056   \n",
       "2         61854 2019-02-28 12:13:13.218 2019-03-01 05:24:08.146   \n",
       "3         36490 2019-02-28 17:54:26.010 2019-03-01 04:02:36.842   \n",
       "4          1585 2019-02-28 23:54:18.549 2019-03-01 00:20:44.074   \n",
       "\n",
       "   start_station_id                                start_station_name  \\\n",
       "0              21.0  Montgomery St BART Station (Market St at 2nd St)   \n",
       "1              23.0                     The Embarcadero at Steuart St   \n",
       "2              86.0                           Market St at Dolores St   \n",
       "3             375.0                           Grove St at Masonic Ave   \n",
       "4               7.0                               Frank H Ogawa Plaza   \n",
       "\n",
       "   start_station_latitude  start_station_longitude  end_station_id  \\\n",
       "0               37.789625              -122.400811            13.0   \n",
       "1               37.791464              -122.391034            81.0   \n",
       "2               37.769305              -122.426826             3.0   \n",
       "3               37.774836              -122.446546            70.0   \n",
       "4               37.804562              -122.271738           222.0   \n",
       "\n",
       "                               end_station_name  end_station_latitude  \\\n",
       "0                Commercial St at Montgomery St             37.794231   \n",
       "1                            Berry St at 4th St             37.775880   \n",
       "2  Powell St BART Station (Market St at 4th St)             37.786375   \n",
       "3                        Central Ave at Fell St             37.773311   \n",
       "4                         10th Ave at E 15th St             37.792714   \n",
       "\n",
       "   end_station_longitude  bike_id   user_type  member_birth_year  \\\n",
       "0            -122.402923     4902    Customer             1984.0   \n",
       "1            -122.393170     2535    Customer                NaN   \n",
       "2            -122.404904     5905    Customer             1972.0   \n",
       "3            -122.444293     6638  Subscriber             1989.0   \n",
       "4            -122.248780     4898  Subscriber             1974.0   \n",
       "\n",
       "  member_gender  bike_share_for_all_trip  start_hour  start_day  start_month  \\\n",
       "0          Male                    False          17          3            2   \n",
       "1           NaN                    False          18          3            2   \n",
       "2          Male                    False          12          3            2   \n",
       "3         Other                    False          17          3            2   \n",
       "4          Male                     True          23          3            2   \n",
       "\n",
       "   duration_minutes  \n",
       "0        869.750000  \n",
       "1        708.683333  \n",
       "2       1030.900000  \n",
       "3        608.166667  \n",
       "4         26.416667  "
      ]
     },
     "execution_count": 149,
     "metadata": {},
     "output_type": "execute_result"
    }
   ],
   "source": [
    "# Change Duration_sec to minutes.\n",
    "bike_df1['duration_minutes']=bike_df1['duration_sec']/60\n",
    "#Test\n",
    "bike_df1.head()"
   ]
  },
  {
   "cell_type": "code",
   "execution_count": 150,
   "id": "e9e97c3d",
   "metadata": {},
   "outputs": [],
   "source": [
    "bike_df1.to_csv('bike_df1.csv', index = False)"
   ]
  },
  {
   "cell_type": "code",
   "execution_count": 151,
   "id": "f612bba2",
   "metadata": {},
   "outputs": [
    {
     "data": {
      "text/html": [
       "<div>\n",
       "<style scoped>\n",
       "    .dataframe tbody tr th:only-of-type {\n",
       "        vertical-align: middle;\n",
       "    }\n",
       "\n",
       "    .dataframe tbody tr th {\n",
       "        vertical-align: top;\n",
       "    }\n",
       "\n",
       "    .dataframe thead th {\n",
       "        text-align: right;\n",
       "    }\n",
       "</style>\n",
       "<table border=\"1\" class=\"dataframe\">\n",
       "  <thead>\n",
       "    <tr style=\"text-align: right;\">\n",
       "      <th></th>\n",
       "      <th>duration_sec</th>\n",
       "      <th>start_station_id</th>\n",
       "      <th>start_station_latitude</th>\n",
       "      <th>start_station_longitude</th>\n",
       "      <th>end_station_id</th>\n",
       "      <th>end_station_latitude</th>\n",
       "      <th>end_station_longitude</th>\n",
       "      <th>bike_id</th>\n",
       "      <th>member_birth_year</th>\n",
       "      <th>start_hour</th>\n",
       "      <th>start_day</th>\n",
       "      <th>start_month</th>\n",
       "      <th>duration_minutes</th>\n",
       "    </tr>\n",
       "  </thead>\n",
       "  <tbody>\n",
       "    <tr>\n",
       "      <th>count</th>\n",
       "      <td>183412.000000</td>\n",
       "      <td>183215.000000</td>\n",
       "      <td>183412.000000</td>\n",
       "      <td>183412.000000</td>\n",
       "      <td>183215.000000</td>\n",
       "      <td>183412.000000</td>\n",
       "      <td>183412.000000</td>\n",
       "      <td>183412.000000</td>\n",
       "      <td>175147.000000</td>\n",
       "      <td>183412.000000</td>\n",
       "      <td>183412.000000</td>\n",
       "      <td>183412.0</td>\n",
       "      <td>183412.000000</td>\n",
       "    </tr>\n",
       "    <tr>\n",
       "      <th>mean</th>\n",
       "      <td>726.078435</td>\n",
       "      <td>138.590427</td>\n",
       "      <td>37.771223</td>\n",
       "      <td>-122.352664</td>\n",
       "      <td>136.249123</td>\n",
       "      <td>37.771427</td>\n",
       "      <td>-122.352250</td>\n",
       "      <td>4472.906375</td>\n",
       "      <td>1984.806437</td>\n",
       "      <td>13.458421</td>\n",
       "      <td>2.632178</td>\n",
       "      <td>2.0</td>\n",
       "      <td>12.101307</td>\n",
       "    </tr>\n",
       "    <tr>\n",
       "      <th>std</th>\n",
       "      <td>1794.389780</td>\n",
       "      <td>111.778864</td>\n",
       "      <td>0.099581</td>\n",
       "      <td>0.117097</td>\n",
       "      <td>111.515131</td>\n",
       "      <td>0.099490</td>\n",
       "      <td>0.116673</td>\n",
       "      <td>1664.383394</td>\n",
       "      <td>10.116689</td>\n",
       "      <td>4.724978</td>\n",
       "      <td>1.814786</td>\n",
       "      <td>0.0</td>\n",
       "      <td>29.906496</td>\n",
       "    </tr>\n",
       "    <tr>\n",
       "      <th>min</th>\n",
       "      <td>61.000000</td>\n",
       "      <td>3.000000</td>\n",
       "      <td>37.317298</td>\n",
       "      <td>-122.453704</td>\n",
       "      <td>3.000000</td>\n",
       "      <td>37.317298</td>\n",
       "      <td>-122.453704</td>\n",
       "      <td>11.000000</td>\n",
       "      <td>1878.000000</td>\n",
       "      <td>0.000000</td>\n",
       "      <td>0.000000</td>\n",
       "      <td>2.0</td>\n",
       "      <td>1.016667</td>\n",
       "    </tr>\n",
       "    <tr>\n",
       "      <th>25%</th>\n",
       "      <td>325.000000</td>\n",
       "      <td>47.000000</td>\n",
       "      <td>37.770083</td>\n",
       "      <td>-122.412408</td>\n",
       "      <td>44.000000</td>\n",
       "      <td>37.770407</td>\n",
       "      <td>-122.411726</td>\n",
       "      <td>3777.000000</td>\n",
       "      <td>1980.000000</td>\n",
       "      <td>9.000000</td>\n",
       "      <td>1.000000</td>\n",
       "      <td>2.0</td>\n",
       "      <td>5.416667</td>\n",
       "    </tr>\n",
       "    <tr>\n",
       "      <th>50%</th>\n",
       "      <td>514.000000</td>\n",
       "      <td>104.000000</td>\n",
       "      <td>37.780760</td>\n",
       "      <td>-122.398285</td>\n",
       "      <td>100.000000</td>\n",
       "      <td>37.781010</td>\n",
       "      <td>-122.398279</td>\n",
       "      <td>4958.000000</td>\n",
       "      <td>1987.000000</td>\n",
       "      <td>14.000000</td>\n",
       "      <td>3.000000</td>\n",
       "      <td>2.0</td>\n",
       "      <td>8.566667</td>\n",
       "    </tr>\n",
       "    <tr>\n",
       "      <th>75%</th>\n",
       "      <td>796.000000</td>\n",
       "      <td>239.000000</td>\n",
       "      <td>37.797280</td>\n",
       "      <td>-122.286533</td>\n",
       "      <td>235.000000</td>\n",
       "      <td>37.797320</td>\n",
       "      <td>-122.288045</td>\n",
       "      <td>5502.000000</td>\n",
       "      <td>1992.000000</td>\n",
       "      <td>17.000000</td>\n",
       "      <td>4.000000</td>\n",
       "      <td>2.0</td>\n",
       "      <td>13.266667</td>\n",
       "    </tr>\n",
       "    <tr>\n",
       "      <th>max</th>\n",
       "      <td>85444.000000</td>\n",
       "      <td>398.000000</td>\n",
       "      <td>37.880222</td>\n",
       "      <td>-121.874119</td>\n",
       "      <td>398.000000</td>\n",
       "      <td>37.880222</td>\n",
       "      <td>-121.874119</td>\n",
       "      <td>6645.000000</td>\n",
       "      <td>2001.000000</td>\n",
       "      <td>23.000000</td>\n",
       "      <td>6.000000</td>\n",
       "      <td>2.0</td>\n",
       "      <td>1424.066667</td>\n",
       "    </tr>\n",
       "  </tbody>\n",
       "</table>\n",
       "</div>"
      ],
      "text/plain": [
       "        duration_sec  start_station_id  start_station_latitude  \\\n",
       "count  183412.000000     183215.000000           183412.000000   \n",
       "mean      726.078435        138.590427               37.771223   \n",
       "std      1794.389780        111.778864                0.099581   \n",
       "min        61.000000          3.000000               37.317298   \n",
       "25%       325.000000         47.000000               37.770083   \n",
       "50%       514.000000        104.000000               37.780760   \n",
       "75%       796.000000        239.000000               37.797280   \n",
       "max     85444.000000        398.000000               37.880222   \n",
       "\n",
       "       start_station_longitude  end_station_id  end_station_latitude  \\\n",
       "count            183412.000000   183215.000000         183412.000000   \n",
       "mean               -122.352664      136.249123             37.771427   \n",
       "std                   0.117097      111.515131              0.099490   \n",
       "min                -122.453704        3.000000             37.317298   \n",
       "25%                -122.412408       44.000000             37.770407   \n",
       "50%                -122.398285      100.000000             37.781010   \n",
       "75%                -122.286533      235.000000             37.797320   \n",
       "max                -121.874119      398.000000             37.880222   \n",
       "\n",
       "       end_station_longitude        bike_id  member_birth_year     start_hour  \\\n",
       "count          183412.000000  183412.000000      175147.000000  183412.000000   \n",
       "mean             -122.352250    4472.906375        1984.806437      13.458421   \n",
       "std                 0.116673    1664.383394          10.116689       4.724978   \n",
       "min              -122.453704      11.000000        1878.000000       0.000000   \n",
       "25%              -122.411726    3777.000000        1980.000000       9.000000   \n",
       "50%              -122.398279    4958.000000        1987.000000      14.000000   \n",
       "75%              -122.288045    5502.000000        1992.000000      17.000000   \n",
       "max              -121.874119    6645.000000        2001.000000      23.000000   \n",
       "\n",
       "           start_day  start_month  duration_minutes  \n",
       "count  183412.000000     183412.0     183412.000000  \n",
       "mean        2.632178          2.0         12.101307  \n",
       "std         1.814786          0.0         29.906496  \n",
       "min         0.000000          2.0          1.016667  \n",
       "25%         1.000000          2.0          5.416667  \n",
       "50%         3.000000          2.0          8.566667  \n",
       "75%         4.000000          2.0         13.266667  \n",
       "max         6.000000          2.0       1424.066667  "
      ]
     },
     "execution_count": 151,
     "metadata": {},
     "output_type": "execute_result"
    }
   ],
   "source": [
    "bike_df1.describe()"
   ]
  },
  {
   "cell_type": "markdown",
   "id": "2736a2b5",
   "metadata": {},
   "source": [
    "From the descriptive statistics above, the average bike duration  is 726 sec or 12 minutes, "
   ]
  },
  {
   "cell_type": "markdown",
   "id": "ef05c690",
   "metadata": {},
   "source": [
    "## What is/are the main feature(s) of interest in your dataset?\n",
    "The main feature of interest is the trip duration (duration_minutes). I would like to check if gender, age can determine average trip duration. "
   ]
  },
  {
   "cell_type": "markdown",
   "id": "fffddb9a",
   "metadata": {},
   "source": [
    "## What features in the dataset do you think will help support your investigation into your feature(s) of interest?\n",
    "User_type shows the number of different users and duration_minutes shows how long the trip was for."
   ]
  },
  {
   "cell_type": "markdown",
   "id": "3640268c",
   "metadata": {},
   "source": [
    "## Univariate Analysis\n",
    "Lets look at the distribution of our main feature of interest (duration). "
   ]
  },
  {
   "cell_type": "code",
   "execution_count": 152,
   "id": "93037b88",
   "metadata": {},
   "outputs": [],
   "source": [
    "bins = np.arange(0, 3600,60)\n",
    "def histplot_function(data, x, bins):\n",
    "    plt.hist(data = bike_df1, x ='duration_sec', bins = bins)\n",
    "    plt.title(\"Trip duration in seconds\")\n",
    "    plt.xlabel(\"Duration in seconds\")\n",
    "    plt.ylabel(\"Number of trips\");"
   ]
  },
  {
   "cell_type": "code",
   "execution_count": 153,
   "id": "a34ee1e1",
   "metadata": {},
   "outputs": [
    {
     "data": {
      "image/png": "[encoded data removed]",
      "text/plain": [
       "<Figure size 432x288 with 1 Axes>"
      ]
     },
     "metadata": {
      "needs_background": "light"
     },
     "output_type": "display_data"
    }
   ],
   "source": [
    "histplot_function(data = bike_df1, x ='duration_sec', bins = bins)"
   ]
  },
  {
   "cell_type": "markdown",
   "id": "751f0a4f",
   "metadata": {},
   "source": [
    "The above chart shows that most of the trip are around 500 seconds, then the rides decreases. This shows that there is a negative correlation between trip duration and number of trips."
   ]
  },
  {
   "cell_type": "code",
   "execution_count": 154,
   "id": "c2edb0fc",
   "metadata": {
    "scrolled": true
   },
   "outputs": [],
   "source": [
    "# A histogram to show the bike trip duration in minutes\n",
    "def hisplot_function(data, x, bins):\n",
    "    binsize = 15\n",
    "    bins = np.arange(0, bike_df1['duration_minutes'].max()+binsize, binsize)\n",
    "\n",
    "    plt.figure(figsize=[11.69, 8.27])\n",
    "    plt.hist(data = bike_df1, x = 'duration_minutes', bins=bins)\n",
    "    plt.title('Distribution of trip duration in minutes')\n",
    "    plt.xlabel('Duration in minutes')\n",
    "    plt.ylabel('Number of Trips')\n",
    "    plt.show()"
   ]
  },
  {
   "cell_type": "code",
   "execution_count": 155,
   "id": "d249ab36",
   "metadata": {},
   "outputs": [
    {
     "data": {
      "image/png": "[encoded data removed]",
      "text/plain": [
       "<Figure size 432x288 with 1 Axes>"
      ]
     },
     "metadata": {
      "needs_background": "light"
     },
     "output_type": "display_data"
    }
   ],
   "source": [
    "histplot_function(data = bike_df1, x = 'duration_minutes', bins=bins)"
   ]
  },
  {
   "cell_type": "markdown",
   "id": "e681e12c",
   "metadata": {},
   "source": [
    "From the chart above, it can be seen that the highest number of trips is between 0 to 200 minutes."
   ]
  },
  {
   "cell_type": "code",
   "execution_count": 156,
   "id": "82c58efa",
   "metadata": {},
   "outputs": [],
   "source": [
    "def hisplot_function(data, x, bins):\n",
    "    log_bin_size = 0.15\n",
    "    log_bins = 15 ** np.arange(0.0, np.log10(bike_df1['duration_minutes'].max())+log_bin_size, log_bin_size)\n",
    "\n",
    "    plt.figure(figsize=[20.69, 8.27])\n",
    "    plt.hist(data = bike_df1, x = 'duration_minutes', bins=log_bins)\n",
    "    plt.title('Distribution of trip duration in minutes')\n",
    "    plt.xlabel('Duration in minutes')\n",
    "    plt.ylabel('Number of Trips')\n",
    "    plt.xscale('log')\n",
    "    tick_locs=[1,2,5,10,15,20,30,40,50,100,200,500,600,800,1000]\n",
    "    plt.xticks(tick_locs, tick_locs)\n",
    "    plt.show()"
   ]
  },
  {
   "cell_type": "code",
   "execution_count": 157,
   "id": "a57ba9f5",
   "metadata": {},
   "outputs": [
    {
     "data": {
      "image/png": "[encoded data removed]",
      "text/plain": [
       "<Figure size 432x288 with 1 Axes>"
      ]
     },
     "metadata": {
      "needs_background": "light"
     },
     "output_type": "display_data"
    }
   ],
   "source": [
    "histplot_function(data = bike_df1, x = 'duration_minutes', bins=log_bins)"
   ]
  },
  {
   "cell_type": "code",
   "execution_count": 158,
   "id": "a1df9b3d",
   "metadata": {},
   "outputs": [
    {
     "data": {
      "text/plain": [
       "count    183412.000000\n",
       "mean         12.101307\n",
       "std          29.906496\n",
       "min           1.016667\n",
       "25%           5.416667\n",
       "50%           8.566667\n",
       "75%          13.266667\n",
       "max        1424.066667\n",
       "Name: duration_minutes, dtype: float64"
      ]
     },
     "execution_count": 158,
     "metadata": {},
     "output_type": "execute_result"
    }
   ],
   "source": [
    "bike_df1.duration_minutes.describe()"
   ]
  },
  {
   "cell_type": "markdown",
   "id": "da9737c6",
   "metadata": {},
   "source": [
    "Using log-scale to plot the previous graph shows that the distribution has a peak between 8 and 15 which means that most of the bike trip takes between 5 and 15. From the analysis, the average bike trip duration was 12 minutes. "
   ]
  },
  {
   "cell_type": "code",
   "execution_count": 159,
   "id": "a3b9bc23",
   "metadata": {},
   "outputs": [
    {
     "data": {
      "text/html": [
       "<div>\n",
       "<style scoped>\n",
       "    .dataframe tbody tr th:only-of-type {\n",
       "        vertical-align: middle;\n",
       "    }\n",
       "\n",
       "    .dataframe tbody tr th {\n",
       "        vertical-align: top;\n",
       "    }\n",
       "\n",
       "    .dataframe thead th {\n",
       "        text-align: right;\n",
       "    }\n",
       "</style>\n",
       "<table border=\"1\" class=\"dataframe\">\n",
       "  <thead>\n",
       "    <tr style=\"text-align: right;\">\n",
       "      <th></th>\n",
       "      <th>duration_sec</th>\n",
       "      <th>start_time</th>\n",
       "      <th>end_time</th>\n",
       "      <th>start_station_id</th>\n",
       "      <th>start_station_name</th>\n",
       "      <th>start_station_latitude</th>\n",
       "      <th>start_station_longitude</th>\n",
       "      <th>end_station_id</th>\n",
       "      <th>end_station_name</th>\n",
       "      <th>end_station_latitude</th>\n",
       "      <th>...</th>\n",
       "      <th>bike_id</th>\n",
       "      <th>user_type</th>\n",
       "      <th>member_birth_year</th>\n",
       "      <th>member_gender</th>\n",
       "      <th>bike_share_for_all_trip</th>\n",
       "      <th>start_hour</th>\n",
       "      <th>start_day</th>\n",
       "      <th>start_month</th>\n",
       "      <th>duration_minutes</th>\n",
       "      <th>member_age</th>\n",
       "    </tr>\n",
       "  </thead>\n",
       "  <tbody>\n",
       "    <tr>\n",
       "      <th>0</th>\n",
       "      <td>52185</td>\n",
       "      <td>2019-02-28 17:32:10.145</td>\n",
       "      <td>2019-03-01 08:01:55.975</td>\n",
       "      <td>21.0</td>\n",
       "      <td>Montgomery St BART Station (Market St at 2nd St)</td>\n",
       "      <td>37.789625</td>\n",
       "      <td>-122.400811</td>\n",
       "      <td>13.0</td>\n",
       "      <td>Commercial St at Montgomery St</td>\n",
       "      <td>37.794231</td>\n",
       "      <td>...</td>\n",
       "      <td>4902</td>\n",
       "      <td>Customer</td>\n",
       "      <td>1984.0</td>\n",
       "      <td>Male</td>\n",
       "      <td>False</td>\n",
       "      <td>17</td>\n",
       "      <td>3</td>\n",
       "      <td>2</td>\n",
       "      <td>869.750000</td>\n",
       "      <td>35.0</td>\n",
       "    </tr>\n",
       "    <tr>\n",
       "      <th>1</th>\n",
       "      <td>42521</td>\n",
       "      <td>2019-02-28 18:53:21.789</td>\n",
       "      <td>2019-03-01 06:42:03.056</td>\n",
       "      <td>23.0</td>\n",
       "      <td>The Embarcadero at Steuart St</td>\n",
       "      <td>37.791464</td>\n",
       "      <td>-122.391034</td>\n",
       "      <td>81.0</td>\n",
       "      <td>Berry St at 4th St</td>\n",
       "      <td>37.775880</td>\n",
       "      <td>...</td>\n",
       "      <td>2535</td>\n",
       "      <td>Customer</td>\n",
       "      <td>NaN</td>\n",
       "      <td>NaN</td>\n",
       "      <td>False</td>\n",
       "      <td>18</td>\n",
       "      <td>3</td>\n",
       "      <td>2</td>\n",
       "      <td>708.683333</td>\n",
       "      <td>NaN</td>\n",
       "    </tr>\n",
       "    <tr>\n",
       "      <th>2</th>\n",
       "      <td>61854</td>\n",
       "      <td>2019-02-28 12:13:13.218</td>\n",
       "      <td>2019-03-01 05:24:08.146</td>\n",
       "      <td>86.0</td>\n",
       "      <td>Market St at Dolores St</td>\n",
       "      <td>37.769305</td>\n",
       "      <td>-122.426826</td>\n",
       "      <td>3.0</td>\n",
       "      <td>Powell St BART Station (Market St at 4th St)</td>\n",
       "      <td>37.786375</td>\n",
       "      <td>...</td>\n",
       "      <td>5905</td>\n",
       "      <td>Customer</td>\n",
       "      <td>1972.0</td>\n",
       "      <td>Male</td>\n",
       "      <td>False</td>\n",
       "      <td>12</td>\n",
       "      <td>3</td>\n",
       "      <td>2</td>\n",
       "      <td>1030.900000</td>\n",
       "      <td>47.0</td>\n",
       "    </tr>\n",
       "  </tbody>\n",
       "</table>\n",
       "<p>3 rows × 21 columns</p>\n",
       "</div>"
      ],
      "text/plain": [
       "   duration_sec              start_time                end_time  \\\n",
       "0         52185 2019-02-28 17:32:10.145 2019-03-01 08:01:55.975   \n",
       "1         42521 2019-02-28 18:53:21.789 2019-03-01 06:42:03.056   \n",
       "2         61854 2019-02-28 12:13:13.218 2019-03-01 05:24:08.146   \n",
       "\n",
       "   start_station_id                                start_station_name  \\\n",
       "0              21.0  Montgomery St BART Station (Market St at 2nd St)   \n",
       "1              23.0                     The Embarcadero at Steuart St   \n",
       "2              86.0                           Market St at Dolores St   \n",
       "\n",
       "   start_station_latitude  start_station_longitude  end_station_id  \\\n",
       "0               37.789625              -122.400811            13.0   \n",
       "1               37.791464              -122.391034            81.0   \n",
       "2               37.769305              -122.426826             3.0   \n",
       "\n",
       "                               end_station_name  end_station_latitude  ...  \\\n",
       "0                Commercial St at Montgomery St             37.794231  ...   \n",
       "1                            Berry St at 4th St             37.775880  ...   \n",
       "2  Powell St BART Station (Market St at 4th St)             37.786375  ...   \n",
       "\n",
       "   bike_id  user_type member_birth_year  member_gender  \\\n",
       "0     4902   Customer            1984.0           Male   \n",
       "1     2535   Customer               NaN            NaN   \n",
       "2     5905   Customer            1972.0           Male   \n",
       "\n",
       "  bike_share_for_all_trip  start_hour  start_day  start_month  \\\n",
       "0                   False          17          3            2   \n",
       "1                   False          18          3            2   \n",
       "2                   False          12          3            2   \n",
       "\n",
       "   duration_minutes  member_age  \n",
       "0        869.750000        35.0  \n",
       "1        708.683333         NaN  \n",
       "2       1030.900000        47.0  \n",
       "\n",
       "[3 rows x 21 columns]"
      ]
     },
     "execution_count": 159,
     "metadata": {},
     "output_type": "execute_result"
    }
   ],
   "source": [
    "# To calculate the Age from the member_birth_year column.\n",
    "#code\n",
    "bike_df1['member_age']=2019-bike_df['member_birth_year']\n",
    "#Test\n",
    "bike_df1.head(3)"
   ]
  },
  {
   "cell_type": "code",
   "execution_count": 160,
   "id": "0853069a",
   "metadata": {},
   "outputs": [],
   "source": [
    "# Lets look at the Age distribution of members.\n",
    "#code\n",
    "def histplot_function(data, x, bins):\n",
    "    binsize = 1\n",
    "    bins = np.arange(0, bike_df1['member_age'].max()+binsize, binsize)\n",
    "\n",
    "    plt.figure(figsize=[10.5, 8.27])\n",
    "    plt.hist(data = bike_df1, x = 'member_age', bins=bins)\n",
    "    plt.title('Distribution of member Age in years')\n",
    "    plt.xlabel('Member_age')\n",
    "    plt.ylabel('Number of Trips')\n"
   ]
  },
  {
   "cell_type": "code",
   "execution_count": 161,
   "id": "f63ec49a",
   "metadata": {},
   "outputs": [
    {
     "data": {
      "image/png": "[encoded data removed]",
      "text/plain": [
       "<Figure size 756x595.44 with 1 Axes>"
      ]
     },
     "metadata": {
      "needs_background": "light"
     },
     "output_type": "display_data"
    }
   ],
   "source": [
    "histplot_function(data = bike_df1, x = 'member_age', bins=bins)"
   ]
  },
  {
   "cell_type": "code",
   "execution_count": 162,
   "id": "f8c89a94",
   "metadata": {},
   "outputs": [
    {
     "data": {
      "text/plain": [
       "count    175147.000000\n",
       "mean         34.193563\n",
       "std          10.116689\n",
       "min          18.000000\n",
       "25%          27.000000\n",
       "50%          32.000000\n",
       "75%          39.000000\n",
       "max         141.000000\n",
       "Name: member_age, dtype: float64"
      ]
     },
     "execution_count": 162,
     "metadata": {},
     "output_type": "execute_result"
    }
   ],
   "source": [
    "bike_df1.member_age.describe()"
   ]
  },
  {
   "cell_type": "code",
   "execution_count": 163,
   "id": "b6ff7266",
   "metadata": {},
   "outputs": [
    {
     "data": {
      "text/plain": [
       "<AxesSubplot:xlabel='member_age'>"
      ]
     },
     "execution_count": 163,
     "metadata": {},
     "output_type": "execute_result"
    },
    {
     "data": {
      "image/png": "[encoded data removed]",
      "text/plain": [
       "<Figure size 432x288 with 1 Axes>"
      ]
     },
     "metadata": {
      "needs_background": "light"
     },
     "output_type": "display_data"
    }
   ],
   "source": [
    "# Using a boxplot to visualize the member age in the dataset.\n",
    "sns.boxplot(data = bike_df1, x='member_age')"
   ]
  },
  {
   "cell_type": "markdown",
   "id": "d6d39340",
   "metadata": {},
   "source": [
    "From the analysis above, most of the users are aged between 27 and 39 years old."
   ]
  },
  {
   "cell_type": "markdown",
   "id": "5ae93e4c",
   "metadata": {},
   "source": [
    "### Gender distribution"
   ]
  },
  {
   "cell_type": "code",
   "execution_count": 164,
   "id": "84c44b43",
   "metadata": {},
   "outputs": [
    {
     "data": {
      "text/plain": [
       "Text(0, 0.5, 'Number of users')"
      ]
     },
     "execution_count": 164,
     "metadata": {},
     "output_type": "execute_result"
    },
    {
     "data": {
      "image/png": "[encoded data removed]",
      "text/plain": [
       "<Figure size 432x288 with 1 Axes>"
      ]
     },
     "metadata": {
      "needs_background": "light"
     },
     "output_type": "display_data"
    }
   ],
   "source": [
    "# Lets look at the gender distribution of members.\n",
    "# Code\n",
    "sns.countplot(data = bike_df1, x = 'member_gender')\n",
    "plt.title('Gender distribution')\n",
    "plt.xlabel('Gender')\n",
    "plt.ylabel('Number of users')"
   ]
  },
  {
   "cell_type": "markdown",
   "id": "8fcfca51",
   "metadata": {},
   "source": [
    "The chart above shows that over 120,000 males use the bike service while about 4000 females use the service. "
   ]
  },
  {
   "cell_type": "markdown",
   "id": "3208f786",
   "metadata": {},
   "source": [
    "###  Number of Users per user type"
   ]
  },
  {
   "cell_type": "code",
   "execution_count": 165,
   "id": "1c8aa3c4",
   "metadata": {},
   "outputs": [
    {
     "data": {
      "image/png": "[encoded data removed]",
      "text/plain": [
       "<Figure size 720x576 with 1 Axes>"
      ]
     },
     "metadata": {
      "needs_background": "light"
     },
     "output_type": "display_data"
    }
   ],
   "source": [
    "# Lets plot a bar chart to show the user type\n",
    "plt.figure(figsize=[10,8])\n",
    "user_category = bike_df1['user_type'].value_counts().index\n",
    "sns.countplot(data = bike_df1, x = 'user_type', order = user_category)\n",
    "plt.title('User distribution')\n",
    "plt.xlabel('User_ type')\n",
    "plt.ylabel('Number of users')\n",
    "plt.show()"
   ]
  },
  {
   "cell_type": "code",
   "execution_count": 166,
   "id": "32e33dfd",
   "metadata": {},
   "outputs": [
    {
     "data": {
      "text/plain": [
       "Subscriber    163544\n",
       "Customer       19868\n",
       "Name: user_type, dtype: int64"
      ]
     },
     "execution_count": 166,
     "metadata": {},
     "output_type": "execute_result"
    }
   ],
   "source": [
    "bike_df1.user_type.value_counts()"
   ]
  },
  {
   "cell_type": "markdown",
   "id": "ec4dce3d",
   "metadata": {},
   "source": [
    "From the above, it can be seen that majority of the users are subscribers (163,544) while the remaining 19,868 users are customers."
   ]
  },
  {
   "cell_type": "code",
   "execution_count": 167,
   "id": "81023122",
   "metadata": {},
   "outputs": [
    {
     "data": {
      "image/png": "[encoded data removed]",
      "text/plain": [
       "<Figure size 432x288 with 1 Axes>"
      ]
     },
     "metadata": {},
     "output_type": "display_data"
    }
   ],
   "source": [
    "# using a pie chart to show the percentage of each user type.\n",
    "user_category = bike_df1['user_type'].value_counts()\n",
    "plt.pie(user_category, explode=(0, 0.1), labels = user_category.index, shadow = True, counterclock = False, autopct='%1.1f%%')\n",
    "plt.axis('square')\n",
    "plt.show()"
   ]
  },
  {
   "cell_type": "markdown",
   "id": "429c8e62",
   "metadata": {},
   "source": [
    "From the pie chart above, 89.2% of users are subscribers, they use the bikes more than the customers, and 10.8% of users are customers. "
   ]
  },
  {
   "cell_type": "markdown",
   "id": "54a1b2e3",
   "metadata": {},
   "source": [
    "### Lets check the distribution of rides per day."
   ]
  },
  {
   "cell_type": "code",
   "execution_count": 168,
   "id": "77898696",
   "metadata": {},
   "outputs": [],
   "source": [
    "# First we create the labels\n",
    "month_labels =['Jan', 'Feb', 'Mar', 'Apr', 'May', 'June', 'July', 'Aug', 'Sept', 'Oct', 'Nov', 'Dec']\n",
    "start_day_labels =['Mon', 'Tue', 'Wed', 'Thur', 'Fri', 'Sat', 'Sun']"
   ]
  },
  {
   "cell_type": "code",
   "execution_count": 169,
   "id": "60b18771",
   "metadata": {},
   "outputs": [],
   "source": [
    "def histplot_function(data, x, bins, rwidth):\n",
    "    bins= np.arange(0.5, 10 + 1, 1)\n",
    "    plt.figure(figsize=[10, 8])\n",
    "    plt.hist(data = bike_df1, x ='start_day', bins =bins, rwidth = 0.5)\n",
    "    plt.xticks(np.arange(1, 7 + 1, 1), start_day_labels)\n",
    "    plt.xlabel('start_day')\n",
    "    plt.ylabel('No. of Users')\n",
    "    plt.title('Distribution of rides per day')\n",
    "    plt.show()"
   ]
  },
  {
   "cell_type": "code",
   "execution_count": 170,
   "id": "6b577462",
   "metadata": {},
   "outputs": [
    {
     "data": {
      "image/png": "[encoded data removed]",
      "text/plain": [
       "<Figure size 720x576 with 1 Axes>"
      ]
     },
     "metadata": {
      "needs_background": "light"
     },
     "output_type": "display_data"
    }
   ],
   "source": [
    "histplot_function(data = bike_df1, x ='start_day', bins =bins, rwidth = 0.5)"
   ]
  },
  {
   "cell_type": "markdown",
   "id": "8d13c963",
   "metadata": {},
   "source": [
    "From the chart above, there is no bike usage on Sunday. Most bike usage occurs on Mondays and Wednesdays, this could be because users need the bike service to get to their work places, while the weekend (Friday, saturday) has the least usage. "
   ]
  },
  {
   "cell_type": "code",
   "execution_count": 171,
   "id": "69440bbd",
   "metadata": {},
   "outputs": [],
   "source": [
    "def histplot_function(data, x, bins, rwidth):\n",
    "    bins= np.arange(0.5, 8 + 1, 1)\n",
    "    plt.figure(figsize=[8, 5])\n",
    "    plt.hist(data = bike_df1, x ='start_day', bins =bins, rwidth = 0.3)\n",
    "    plt.xticks(np.arange(1, 7 + 1, 1), start_day_labels)\n",
    "    plt.xlabel('start_day')\n",
    "    plt.ylabel('Number of rides')\n",
    "    plt.title('Distribution of rides per hour')\n",
    "    plt.show()"
   ]
  },
  {
   "cell_type": "code",
   "execution_count": 172,
   "id": "9223d783",
   "metadata": {
    "scrolled": false
   },
   "outputs": [
    {
     "data": {
      "image/png": "[encoded data removed]",
      "text/plain": [
       "<Figure size 576x360 with 1 Axes>"
      ]
     },
     "metadata": {
      "needs_background": "light"
     },
     "output_type": "display_data"
    }
   ],
   "source": [
    "histplot_function(data = bike_df1, x ='start_day', bins =bins, rwidth = 0.3)"
   ]
  },
  {
   "cell_type": "markdown",
   "id": "1d1fb7ba",
   "metadata": {},
   "source": [
    "## Discuss the distribution(s) of your variable(s) of interest. Were there any unusual points? Did you need to perform any transformations?"
   ]
  },
  {
   "cell_type": "markdown",
   "id": "f0005c7e",
   "metadata": {},
   "source": [
    "The distribution of duration_minutes was not very clear at the first plot but after a log transformation, the distribution was clearer."
   ]
  },
  {
   "cell_type": "markdown",
   "id": "33ede601",
   "metadata": {},
   "source": [
    "### Of the features you investigated, were there any unusual distributions? Did you perform any operations on the data to tidy, adjust, or change the form of the data? If so, why did you do this?\n"
   ]
  },
  {
   "cell_type": "markdown",
   "id": "2990f334",
   "metadata": {},
   "source": [
    "There were no unusual distributions. The plots displayed as expected and clearly. "
   ]
  },
  {
   "cell_type": "markdown",
   "id": "395da00a",
   "metadata": {},
   "source": [
    "## Bivariate Exploration"
   ]
  },
  {
   "cell_type": "markdown",
   "id": "295c26f9",
   "metadata": {},
   "source": [
    "Bivariate exploration examines the relationship between 2 features. Can Age affect the duration of usage?\n",
    "First, lets look at the relationship between user Age and trip duration."
   ]
  },
  {
   "cell_type": "code",
   "execution_count": 173,
   "id": "4ad38e25",
   "metadata": {},
   "outputs": [
    {
     "data": {
      "image/png": "[encoded data removed]",
      "text/plain": [
       "<Figure size 576x288 with 1 Axes>"
      ]
     },
     "metadata": {
      "needs_background": "light"
     },
     "output_type": "display_data"
    }
   ],
   "source": [
    "plt.figure(figsize=[8,4])\n",
    "plt.scatter(data = bike_df1, x ='member_age', y = 'duration_minutes', alpha = 0.4)\n",
    "plt.title('Duration by Age')\n",
    "plt.ylabel('Duration (minutes) by Age')\n",
    "plt.show()"
   ]
  },
  {
   "cell_type": "markdown",
   "id": "604f04c1",
   "metadata": {},
   "source": [
    "From the above chart, users between age 20 and 50 ride for higher durations than other users. Users from 60 years of age rode for much lesser durations."
   ]
  },
  {
   "cell_type": "markdown",
   "id": "6cdb4c57",
   "metadata": {},
   "source": [
    "Lets look at the trip duration by gender. Which gender uses the bike for the longest minutes?"
   ]
  },
  {
   "cell_type": "code",
   "execution_count": 174,
   "id": "515412d2",
   "metadata": {},
   "outputs": [
    {
     "data": {
      "image/png": "[encoded data removed]",
      "text/plain": [
       "<Figure size 720x432 with 1 Axes>"
      ]
     },
     "metadata": {
      "needs_background": "light"
     },
     "output_type": "display_data"
    }
   ],
   "source": [
    "plt.figure(figsize =[10,6])\n",
    "sns.boxplot(x = 'member_gender', y='duration_minutes', data = bike_df1, palette='Set2')\n",
    "plt.ylim(-5, 60)\n",
    "plt.title('Trip duration by gender')\n",
    "plt.xlabel('Member Gender')\n",
    "plt.ylabel('Trip duration in minutes')\n",
    "plt.show()"
   ]
  },
  {
   "cell_type": "markdown",
   "id": "32bd7f23",
   "metadata": {},
   "source": [
    "I reduced the y axis(duration_minutes) to 60 minutes so we can have a better view of the plot. the plot shows that the female and other gender have trip duration that is slightly higher than the male gender."
   ]
  },
  {
   "cell_type": "markdown",
   "id": "0da5b5fa",
   "metadata": {},
   "source": [
    "### Trip duration by user type\n",
    "Lets look at the trip duration by user_type. Which user type uses the bike for the longest minutes?"
   ]
  },
  {
   "cell_type": "code",
   "execution_count": 175,
   "id": "b969c442",
   "metadata": {},
   "outputs": [
    {
     "data": {
      "image/png": "[encoded data removed]",
      "text/plain": [
       "<Figure size 720x432 with 1 Axes>"
      ]
     },
     "metadata": {
      "needs_background": "light"
     },
     "output_type": "display_data"
    }
   ],
   "source": [
    "plt.figure(figsize =[10,6])\n",
    "sns.boxplot(x = 'user_type', y='duration_minutes', data = bike_df1, palette='Set2', order = ['Subscriber', 'Customer'])\n",
    "plt.ylim(-5, 60)\n",
    "plt.title('Trip duration by user type')\n",
    "plt.xlabel('User type')\n",
    "plt.ylabel('Trip duration in minutes')\n",
    "plt.show()"
   ]
  },
  {
   "cell_type": "markdown",
   "id": "13ca75bd",
   "metadata": {},
   "source": [
    "From the above plot, we can see that the customers use the bike for longer duration than the subscribers."
   ]
  },
  {
   "cell_type": "code",
   "execution_count": 176,
   "id": "c0ba9f21",
   "metadata": {},
   "outputs": [],
   "source": [
    "subscriber=bike_df1['user_type']=='Subscriber'\n",
    "customer = bike_df1['user_type']=='Customer'"
   ]
  },
  {
   "cell_type": "code",
   "execution_count": 177,
   "id": "2c7cfb54",
   "metadata": {},
   "outputs": [
    {
     "data": {
      "text/plain": [
       "10.671061304603203"
      ]
     },
     "execution_count": 177,
     "metadata": {},
     "output_type": "execute_result"
    }
   ],
   "source": [
    "bike_df1[subscriber].duration_minutes.mean()"
   ]
  },
  {
   "cell_type": "code",
   "execution_count": 178,
   "id": "e2d944c7",
   "metadata": {},
   "outputs": [
    {
     "data": {
      "text/plain": [
       "23.87441698543723"
      ]
     },
     "execution_count": 178,
     "metadata": {},
     "output_type": "execute_result"
    }
   ],
   "source": [
    "bike_df1[customer].duration_minutes.mean()"
   ]
  },
  {
   "cell_type": "markdown",
   "id": "58ae96d9",
   "metadata": {},
   "source": [
    "The above analysis shows that the subscribers use the bike ride for an average of 10 minutes while the customers use the bike ride for an average of 23 minutes."
   ]
  },
  {
   "cell_type": "markdown",
   "id": "6e5efa1e",
   "metadata": {},
   "source": [
    "### Talk about some of the relationships you observed in this part of the investigation. How did the feature(s) of interest vary with other features in the dataset?"
   ]
  },
  {
   "cell_type": "markdown",
   "id": "ab6f8925",
   "metadata": {},
   "source": [
    "When looking at the relationship between Age and Trip duration, I observed that the users aged between 20 and 50 used the bikes for longer duration than the older users. From the relationship between gender and trip duration, I observed that female gender use the bike ride for a higher duration than the male gender. Looking at duration based on user type, it can be observed that the customers use the bike longer than the subscribers."
   ]
  },
  {
   "cell_type": "markdown",
   "id": "84fdb893",
   "metadata": {},
   "source": [
    "### Did you observe any interesting relationships between the other features (not the main feature(s) of interest)?"
   ]
  },
  {
   "cell_type": "markdown",
   "id": "681a2a25",
   "metadata": {},
   "source": [
    "It was a bit surprising to notice that the female gender used the bike for longer duration that the male gender. I also observed that users that use the bike once in a while(customers) tend to use the bike for longer durations than subscibers whom I thought would use the bike for longer distances."
   ]
  },
  {
   "cell_type": "markdown",
   "id": "9c471cbc",
   "metadata": {},
   "source": [
    "## Multivariate Exploration"
   ]
  },
  {
   "cell_type": "markdown",
   "id": "185c7daa",
   "metadata": {},
   "source": [
    "I would like to investigate which age group has more users in each of the user type. To achieve this, I will divide member_age into 4 age groups namely teenagers, youths and adults and Retirees"
   ]
  },
  {
   "cell_type": "code",
   "execution_count": 179,
   "id": "a0229d9c",
   "metadata": {},
   "outputs": [],
   "source": [
    "# Age groupings\n",
    "bike_df1['age_group']= bike_df1['member_age'].apply(lambda x: 'Teenagers' if 13<x<=19\n",
    "else 'Youth' if 19<x<=30 \n",
    "else 'Adult' if 30<x<=50 \n",
    "else 'Senior Adult' if 50<x \n",
    "else x)"
   ]
  },
  {
   "cell_type": "code",
   "execution_count": 180,
   "id": "65147aa3",
   "metadata": {},
   "outputs": [
    {
     "data": {
      "text/plain": [
       "Adult           85936\n",
       "Youth           72643\n",
       "Senior Adult    14856\n",
       "Teenagers        1712\n",
       "Name: age_group, dtype: int64"
      ]
     },
     "execution_count": 180,
     "metadata": {},
     "output_type": "execute_result"
    }
   ],
   "source": [
    "# Lets have the value counts of the age group.\n",
    "bike_df1.age_group.value_counts()"
   ]
  },
  {
   "cell_type": "markdown",
   "id": "a92ebbd3",
   "metadata": {},
   "source": [
    "The above analysis shows that the bike service had fewer teenagers (age group between 13 and 19) and more of adults (age group between 30 and 50)\n"
   ]
  },
  {
   "cell_type": "markdown",
   "id": "dce22e75",
   "metadata": {},
   "source": [
    "Lets look at the age group based on the user type."
   ]
  },
  {
   "cell_type": "code",
   "execution_count": 181,
   "id": "69f07429",
   "metadata": {},
   "outputs": [
    {
     "data": {
      "image/png": "[encoded data removed]",
      "text/plain": [
       "<Figure size 2520x576 with 1 Axes>"
      ]
     },
     "metadata": {
      "needs_background": "light"
     },
     "output_type": "display_data"
    }
   ],
   "source": [
    "plt.figure(figsize=[35,8])\n",
    "plt.subplot(1, 2, 1)\n",
    "age_group_chart = sns.countplot(data=bike_df1, x = 'user_type', hue ='age_group', order = bike_df1.user_type.value_counts().index)\n",
    "age_group_chart.set_xlabel('User type')\n",
    "age_group_chart.set_title('Trip duration by user type and age group')\n",
    "age_group_chart.set_ylabel('Trips');\n"
   ]
  },
  {
   "cell_type": "markdown",
   "id": "ecff34fd",
   "metadata": {},
   "source": [
    "From the above chart it can be observed that adults users are the most users in both user group while teenagers are the least users in both user groups"
   ]
  },
  {
   "cell_type": "markdown",
   "id": "7a3e2c67",
   "metadata": {},
   "source": [
    "#### Lets look at the number of  rides in each hour of the day for user types and age groups."
   ]
  },
  {
   "cell_type": "code",
   "execution_count": 182,
   "id": "3557515d",
   "metadata": {
    "scrolled": true
   },
   "outputs": [
    {
     "data": {
      "image/png": "[encoded data removed]",
      "text/plain": [
       "<Figure size 817.125x360 with 2 Axes>"
      ]
     },
     "metadata": {
      "needs_background": "light"
     },
     "output_type": "display_data"
    }
   ],
   "source": [
    "hourly_age_group = sns.catplot(data = bike_df1, x = 'start_hour', col = 'user_type', col_order=['Subscriber', 'Customer'], hue = 'age_group', kind = 'count', sharey = False)\n",
    "hourly_age_group.set_axis_labels(\"Hours of the day\", \" No of trips\")\n",
    "hourly_age_group._legend.set_title(\"Age group\")\n",
    "hourly_age_group.set_titles(\"{col_name}\")\n",
    "hourly_age_group.fig.suptitle('Hourly rides per user type and age group', y = 1.05, fontsize = 11);"
   ]
  },
  {
   "cell_type": "markdown",
   "id": "850e80fa",
   "metadata": {},
   "source": [
    "From the chart above, we can see that the trip gets higher from 8am which is when workers need to get to work with adult age group having the highest number of trips, there is also a peak at 5pm which is when workers return from work. It can also be observed thatfor both type of users (customers and subscribers) the adult age group still takes the highest rides. it can also be noticed that from 7pm the numbe of rides for youths gets higher than other age group for both customers and subscribers."
   ]
  },
  {
   "cell_type": "markdown",
   "id": "7faf4b1c",
   "metadata": {},
   "source": [
    "I would like to explore the relationship between duration in seconds, user type and member gender."
   ]
  },
  {
   "cell_type": "code",
   "execution_count": 183,
   "id": "4a4703b3",
   "metadata": {
    "scrolled": true
   },
   "outputs": [
    {
     "data": {
      "text/plain": [
       "<Figure size 1440x1080 with 0 Axes>"
      ]
     },
     "metadata": {},
     "output_type": "display_data"
    },
    {
     "data": {
      "image/png": "[encoded data removed]",
      "text/plain": [
       "<Figure size 522.375x216 with 2 Axes>"
      ]
     },
     "metadata": {
      "needs_background": "light"
     },
     "output_type": "display_data"
    }
   ],
   "source": [
    "plt.figure(figsize =[20, 15])\n",
    "chart1 = sns.FacetGrid(data= bike_df1, col = 'user_type', hue = 'member_gender')\n",
    "chart1.map_dataframe(plt.scatter, 'member_gender', 'duration_sec', alpha = 0.36)\n",
    "chart1.set_axis_labels('member_gender', 'duration in sec')\n",
    "chart1.add_legend()\n",
    "plt.show()"
   ]
  },
  {
   "cell_type": "markdown",
   "id": "262f17c3",
   "metadata": {},
   "source": [
    "From the plot above, the Customer and subscriber user types seem to behave the same way in their trip duration, apart from the other gender which has a slight difference in user type and trip duration. "
   ]
  },
  {
   "cell_type": "markdown",
   "id": "2e547b22",
   "metadata": {},
   "source": [
    "lets plot a barplot to show the relationship between duration in seconds, user type and bike for all share."
   ]
  },
  {
   "cell_type": "code",
   "execution_count": 184,
   "id": "72d3f408",
   "metadata": {
    "scrolled": true
   },
   "outputs": [
    {
     "data": {
      "text/plain": [
       "<matplotlib.legend.Legend at 0x7ff4b924a610>"
      ]
     },
     "execution_count": 184,
     "metadata": {},
     "output_type": "execute_result"
    },
    {
     "data": {
      "image/png": "[encoded data removed]",
      "text/plain": [
       "<Figure size 432x288 with 1 Axes>"
      ]
     },
     "metadata": {
      "needs_background": "light"
     },
     "output_type": "display_data"
    }
   ],
   "source": [
    "ax = sns.barplot(data = bike_df1, x = 'bike_share_for_all_trip', y='duration_sec', hue='user_type')\n",
    "ax.legend(loc =8, ncol =3, framealpha =1, title ='duration of trip based on user type and bike share for all trip')"
   ]
  },
  {
   "cell_type": "markdown",
   "id": "74540437",
   "metadata": {},
   "source": [
    "From the chart above, we see that more subscribers enrolled in the bike share for all program than customers."
   ]
  }
 ],
 "metadata": {
  "kernelspec": {
   "display_name": "Python 3 (ipykernel)",
   "language": "python",
   "name": "python3"
  },
  "language_info": {
   "codemirror_mode": {
    "name": "ipython",
    "version": 3
   },
   "file_extension": ".py",
   "mimetype": "text/x-python",
   "name": "python",
   "nbconvert_exporter": "python",
   "pygments_lexer": "ipython3",
   "version": "3.9.12"
  }
 },
 "nbformat": 4,
 "nbformat_minor": 5
}
