{
 "cells": [
  {
   "cell_type": "markdown",
   "id": "3795ce88",
   "metadata": {
    "slideshow": {
     "slide_type": "slide"
    }
   },
   "source": [
    "# Part II - (Fordgobike tripdata  Explanatory Analysis )\n",
    "### By (Emem Asuquo)"
   ]
  },
  {
   "cell_type": "markdown",
   "id": "77ea587c",
   "metadata": {
    "slideshow": {
     "slide_type": "slide"
    }
   },
   "source": [
    "## Investigation Overview\n",
    "For the presentation, my focus was on the ride duration and how other variables affect the duration  of the rides.\n",
    "I started by plotting the distribution of the duration in minutes and found that the distribution has a long tail.\n",
    "I used log transformation to plot the same distribution and discovered that there was a peak between 5 and 8 minutes, meaning that most of the rides took about 5 to 8 minutes. The average ride duration was 12 minutes and i also observed an  outlier \n",
    "which showed the maximum ride duration as 1424 minutes.\n",
    "\n",
    "Investigating the hours of rides and the age group of members,I used seaborn to plot a countplot to group the ages, then I used seaborn catplot to plot the hourly rides per user type and age group.  \n",
    "I found that the adult age group(30 to 50 years) had the highest number of trips between 8am to 9am and 4pm to 6pm on weekdays for both customers and subscribers.\n",
    "The youth age group (19 to 30years) have the highest number of rides between 7pm and 11pm on weekdays for both customers and subscribers."
   ]
  },
  {
   "cell_type": "markdown",
   "id": "8d7ef7ec",
   "metadata": {
    "slideshow": {
     "slide_type": "slide"
    }
   },
   "source": [
    "## Dataset Overview\n",
    "The data contains information of 183,412 records of Fordgo bike trip in San Francisco. The dataset was made up of 16 columns and 183,412 rows. The columns are:\n",
    "1. duration_sec\n",
    "2. start_time\n",
    "3. end_time\n",
    "4. start_station_id\n",
    "5. start_station_name\n",
    "6. start_station_latitude\n",
    "7. start_station_longitude\n",
    "8. end_station_id\n",
    "9. end_station_name\n",
    "10. end_station_latitude\n",
    "11. end_station_longitude\n",
    "12. bike_id\n",
    "13. user_type\n",
    "14. member_birth_year\n",
    "15. member_gender\n",
    "16. bike_share_for_all_trip.\n",
    "The data set was downloaded from the udacity website for this project."
   ]
  },
  {
   "cell_type": "code",
   "execution_count": 85,
   "id": "8549d022",
   "metadata": {
    "slideshow": {
     "slide_type": "skip"
    }
   },
   "outputs": [],
   "source": [
    "# import all packages and set plots to be embedded inline\n",
    "import numpy as np\n",
    "import pandas as pd\n",
    "import matplotlib.pyplot as plt\n",
    "import seaborn as sns\n",
    "\n",
    "%matplotlib inline\n",
    "\n",
    "# suppress warnings from final output\n",
    "import warnings\n",
    "warnings.simplefilter(\"ignore\")"
   ]
  },
  {
   "cell_type": "code",
   "execution_count": 86,
   "id": "2887fc57",
   "metadata": {
    "slideshow": {
     "slide_type": "skip"
    }
   },
   "outputs": [
    {
     "data": {
      "text/html": [
       "<div>\n",
       "<style scoped>\n",
       "    .dataframe tbody tr th:only-of-type {\n",
       "        vertical-align: middle;\n",
       "    }\n",
       "\n",
       "    .dataframe tbody tr th {\n",
       "        vertical-align: top;\n",
       "    }\n",
       "\n",
       "    .dataframe thead th {\n",
       "        text-align: right;\n",
       "    }\n",
       "</style>\n",
       "<table border=\"1\" class=\"dataframe\">\n",
       "  <thead>\n",
       "    <tr style=\"text-align: right;\">\n",
       "      <th></th>\n",
       "      <th>duration_sec</th>\n",
       "      <th>start_time</th>\n",
       "      <th>end_time</th>\n",
       "      <th>start_station_id</th>\n",
       "      <th>start_station_name</th>\n",
       "      <th>start_station_latitude</th>\n",
       "      <th>start_station_longitude</th>\n",
       "      <th>end_station_id</th>\n",
       "      <th>end_station_name</th>\n",
       "      <th>end_station_latitude</th>\n",
       "      <th>end_station_longitude</th>\n",
       "      <th>bike_id</th>\n",
       "      <th>user_type</th>\n",
       "      <th>member_birth_year</th>\n",
       "      <th>member_gender</th>\n",
       "      <th>bike_share_for_all_trip</th>\n",
       "      <th>start_hour</th>\n",
       "      <th>start_day</th>\n",
       "      <th>start_month</th>\n",
       "      <th>duration_minutes</th>\n",
       "    </tr>\n",
       "  </thead>\n",
       "  <tbody>\n",
       "    <tr>\n",
       "      <th>0</th>\n",
       "      <td>52185</td>\n",
       "      <td>2019-02-28 17:32:10.145</td>\n",
       "      <td>2019-03-01 08:01:55.975</td>\n",
       "      <td>21.0</td>\n",
       "      <td>Montgomery St BART Station (Market St at 2nd St)</td>\n",
       "      <td>37.789625</td>\n",
       "      <td>-122.400811</td>\n",
       "      <td>13.0</td>\n",
       "      <td>Commercial St at Montgomery St</td>\n",
       "      <td>37.794231</td>\n",
       "      <td>-122.402923</td>\n",
       "      <td>4902</td>\n",
       "      <td>Customer</td>\n",
       "      <td>1984.0</td>\n",
       "      <td>Male</td>\n",
       "      <td>False</td>\n",
       "      <td>17</td>\n",
       "      <td>3</td>\n",
       "      <td>2</td>\n",
       "      <td>869.750000</td>\n",
       "    </tr>\n",
       "    <tr>\n",
       "      <th>1</th>\n",
       "      <td>42521</td>\n",
       "      <td>2019-02-28 18:53:21.789</td>\n",
       "      <td>2019-03-01 06:42:03.056</td>\n",
       "      <td>23.0</td>\n",
       "      <td>The Embarcadero at Steuart St</td>\n",
       "      <td>37.791464</td>\n",
       "      <td>-122.391034</td>\n",
       "      <td>81.0</td>\n",
       "      <td>Berry St at 4th St</td>\n",
       "      <td>37.775880</td>\n",
       "      <td>-122.393170</td>\n",
       "      <td>2535</td>\n",
       "      <td>Customer</td>\n",
       "      <td>NaN</td>\n",
       "      <td>NaN</td>\n",
       "      <td>False</td>\n",
       "      <td>18</td>\n",
       "      <td>3</td>\n",
       "      <td>2</td>\n",
       "      <td>708.683333</td>\n",
       "    </tr>\n",
       "    <tr>\n",
       "      <th>2</th>\n",
       "      <td>61854</td>\n",
       "      <td>2019-02-28 12:13:13.218</td>\n",
       "      <td>2019-03-01 05:24:08.146</td>\n",
       "      <td>86.0</td>\n",
       "      <td>Market St at Dolores St</td>\n",
       "      <td>37.769305</td>\n",
       "      <td>-122.426826</td>\n",
       "      <td>3.0</td>\n",
       "      <td>Powell St BART Station (Market St at 4th St)</td>\n",
       "      <td>37.786375</td>\n",
       "      <td>-122.404904</td>\n",
       "      <td>5905</td>\n",
       "      <td>Customer</td>\n",
       "      <td>1972.0</td>\n",
       "      <td>Male</td>\n",
       "      <td>False</td>\n",
       "      <td>12</td>\n",
       "      <td>3</td>\n",
       "      <td>2</td>\n",
       "      <td>1030.900000</td>\n",
       "    </tr>\n",
       "    <tr>\n",
       "      <th>3</th>\n",
       "      <td>36490</td>\n",
       "      <td>2019-02-28 17:54:26.010</td>\n",
       "      <td>2019-03-01 04:02:36.842</td>\n",
       "      <td>375.0</td>\n",
       "      <td>Grove St at Masonic Ave</td>\n",
       "      <td>37.774836</td>\n",
       "      <td>-122.446546</td>\n",
       "      <td>70.0</td>\n",
       "      <td>Central Ave at Fell St</td>\n",
       "      <td>37.773311</td>\n",
       "      <td>-122.444293</td>\n",
       "      <td>6638</td>\n",
       "      <td>Subscriber</td>\n",
       "      <td>1989.0</td>\n",
       "      <td>Other</td>\n",
       "      <td>False</td>\n",
       "      <td>17</td>\n",
       "      <td>3</td>\n",
       "      <td>2</td>\n",
       "      <td>608.166667</td>\n",
       "    </tr>\n",
       "    <tr>\n",
       "      <th>4</th>\n",
       "      <td>1585</td>\n",
       "      <td>2019-02-28 23:54:18.549</td>\n",
       "      <td>2019-03-01 00:20:44.074</td>\n",
       "      <td>7.0</td>\n",
       "      <td>Frank H Ogawa Plaza</td>\n",
       "      <td>37.804562</td>\n",
       "      <td>-122.271738</td>\n",
       "      <td>222.0</td>\n",
       "      <td>10th Ave at E 15th St</td>\n",
       "      <td>37.792714</td>\n",
       "      <td>-122.248780</td>\n",
       "      <td>4898</td>\n",
       "      <td>Subscriber</td>\n",
       "      <td>1974.0</td>\n",
       "      <td>Male</td>\n",
       "      <td>True</td>\n",
       "      <td>23</td>\n",
       "      <td>3</td>\n",
       "      <td>2</td>\n",
       "      <td>26.416667</td>\n",
       "    </tr>\n",
       "  </tbody>\n",
       "</table>\n",
       "</div>"
      ],
      "text/plain": [
       "   duration_sec               start_time                 end_time  \\\n",
       "0         52185  2019-02-28 17:32:10.145  2019-03-01 08:01:55.975   \n",
       "1         42521  2019-02-28 18:53:21.789  2019-03-01 06:42:03.056   \n",
       "2         61854  2019-02-28 12:13:13.218  2019-03-01 05:24:08.146   \n",
       "3         36490  2019-02-28 17:54:26.010  2019-03-01 04:02:36.842   \n",
       "4          1585  2019-02-28 23:54:18.549  2019-03-01 00:20:44.074   \n",
       "\n",
       "   start_station_id                                start_station_name  \\\n",
       "0              21.0  Montgomery St BART Station (Market St at 2nd St)   \n",
       "1              23.0                     The Embarcadero at Steuart St   \n",
       "2              86.0                           Market St at Dolores St   \n",
       "3             375.0                           Grove St at Masonic Ave   \n",
       "4               7.0                               Frank H Ogawa Plaza   \n",
       "\n",
       "   start_station_latitude  start_station_longitude  end_station_id  \\\n",
       "0               37.789625              -122.400811            13.0   \n",
       "1               37.791464              -122.391034            81.0   \n",
       "2               37.769305              -122.426826             3.0   \n",
       "3               37.774836              -122.446546            70.0   \n",
       "4               37.804562              -122.271738           222.0   \n",
       "\n",
       "                               end_station_name  end_station_latitude  \\\n",
       "0                Commercial St at Montgomery St             37.794231   \n",
       "1                            Berry St at 4th St             37.775880   \n",
       "2  Powell St BART Station (Market St at 4th St)             37.786375   \n",
       "3                        Central Ave at Fell St             37.773311   \n",
       "4                         10th Ave at E 15th St             37.792714   \n",
       "\n",
       "   end_station_longitude  bike_id   user_type  member_birth_year  \\\n",
       "0            -122.402923     4902    Customer             1984.0   \n",
       "1            -122.393170     2535    Customer                NaN   \n",
       "2            -122.404904     5905    Customer             1972.0   \n",
       "3            -122.444293     6638  Subscriber             1989.0   \n",
       "4            -122.248780     4898  Subscriber             1974.0   \n",
       "\n",
       "  member_gender  bike_share_for_all_trip  start_hour  start_day  start_month  \\\n",
       "0          Male                    False          17          3            2   \n",
       "1           NaN                    False          18          3            2   \n",
       "2          Male                    False          12          3            2   \n",
       "3         Other                    False          17          3            2   \n",
       "4          Male                     True          23          3            2   \n",
       "\n",
       "   duration_minutes  \n",
       "0        869.750000  \n",
       "1        708.683333  \n",
       "2       1030.900000  \n",
       "3        608.166667  \n",
       "4         26.416667  "
      ]
     },
     "execution_count": 86,
     "metadata": {},
     "output_type": "execute_result"
    }
   ],
   "source": [
    "# Load dataset into pandas\n",
    "bike_df1=pd.read_csv('bike_df1.csv')\n",
    "bike_df1.head()"
   ]
  },
  {
   "cell_type": "markdown",
   "id": "ea403ff0",
   "metadata": {
    "slideshow": {
     "slide_type": "slide"
    }
   },
   "source": [
    "## Distribution of trip duration in minutes\n",
    "The chart below shows the distribution of the main feature of interest which is the duration of the ride."
   ]
  },
  {
   "cell_type": "code",
   "execution_count": 87,
   "id": "f9bbc092",
   "metadata": {
    "slideshow": {
     "slide_type": "subslide"
    }
   },
   "outputs": [
    {
     "data": {
      "image/png": "[encoded data removed]",
      "text/plain": [
       "<Figure size 769.68x523.44 with 1 Axes>"
      ]
     },
     "metadata": {
      "needs_background": "light"
     },
     "output_type": "display_data"
    }
   ],
   "source": [
    "# A histogram to show the bike trip duration in minutes\n",
    "binsize = 15\n",
    "bins = np.arange(0, bike_df1['duration_minutes'].max()+binsize, binsize)\n",
    "\n",
    "plt.figure(figsize=[10.69, 7.27])\n",
    "plt.hist(data = bike_df1, x = 'duration_minutes', bins=bins)\n",
    "plt.title('Distribution of trip duration in minutes')\n",
    "plt.xlabel('Duration in minutes')\n",
    "plt.ylabel('Number of Trips')\n",
    "plt.show()"
   ]
  },
  {
   "cell_type": "markdown",
   "id": "dd2b5fd6",
   "metadata": {
    "slideshow": {
     "slide_type": "subslide"
    }
   },
   "source": [
    "From the chart above, it can be seen that the highest number of trips is between 0 to 200 minutes. The chart does not really show the distribution properly,I had to perform. a log transformation for a better view of the distribution."
   ]
  },
  {
   "cell_type": "code",
   "execution_count": 88,
   "id": "d8d106d7",
   "metadata": {
    "slideshow": {
     "slide_type": "subslide"
    }
   },
   "outputs": [
    {
     "data": {
      "image/png": "[encoded data removed]",
      "text/plain": [
       "<Figure size 1489.68x595.44 with 1 Axes>"
      ]
     },
     "metadata": {
      "needs_background": "light"
     },
     "output_type": "display_data"
    }
   ],
   "source": [
    "log_bin_size = 0.15\n",
    "log_bins = 15 ** np.arange(0.0, np.log10(bike_df1['duration_minutes'].max())+log_bin_size, log_bin_size)\n",
    "\n",
    "plt.figure(figsize=[20.69, 8.27])\n",
    "plt.hist(data = bike_df1, x = 'duration_minutes', bins=log_bins)\n",
    "plt.title('Distribution of trip duration in minutes')\n",
    "plt.xlabel('Duration in minutes')\n",
    "plt.ylabel('Number of Trips')\n",
    "plt.xscale('log')\n",
    "tick_locs=[1,2,5,10,15,20,30,40,50,100,200,500,600,800,1000]\n",
    "plt.xticks(tick_locs, tick_locs)\n",
    "plt.show()"
   ]
  },
  {
   "cell_type": "code",
   "execution_count": 89,
   "id": "21d25b76",
   "metadata": {
    "slideshow": {
     "slide_type": "skip"
    }
   },
   "outputs": [
    {
     "data": {
      "text/plain": [
       "count    183412.000000\n",
       "mean         12.101307\n",
       "std          29.906496\n",
       "min           1.016667\n",
       "25%           5.416667\n",
       "50%           8.566667\n",
       "75%          13.266667\n",
       "max        1424.066667\n",
       "Name: duration_minutes, dtype: float64"
      ]
     },
     "execution_count": 89,
     "metadata": {},
     "output_type": "execute_result"
    }
   ],
   "source": [
    "bike_df1.duration_minutes.describe()"
   ]
  },
  {
   "cell_type": "markdown",
   "id": "4c6f5d3b",
   "metadata": {
    "slideshow": {
     "slide_type": "subslide"
    }
   },
   "source": [
    "Using log-scale to plot the previous graph shows that the distribution has a peak between 8 and 15 which means that most of the bike trip takes between 5 and 15 minutes. From the analysis, the average bike trip duration was 12 minutes."
   ]
  },
  {
   "cell_type": "markdown",
   "id": "c2868e94",
   "metadata": {
    "slideshow": {
     "slide_type": "slide"
    }
   },
   "source": [
    "## Trip duration by gender"
   ]
  },
  {
   "cell_type": "code",
   "execution_count": 90,
   "id": "c80eac7b",
   "metadata": {
    "slideshow": {
     "slide_type": "subslide"
    }
   },
   "outputs": [
    {
     "data": {
      "image/png": "[encoded data removed]",
      "text/plain": [
       "<Figure size 720x432 with 1 Axes>"
      ]
     },
     "metadata": {
      "needs_background": "light"
     },
     "output_type": "display_data"
    }
   ],
   "source": [
    "plt.figure(figsize =[10,6])\n",
    "sns.boxplot(x = 'member_gender', y='duration_minutes', data = bike_df1, palette='Set2')\n",
    "plt.ylim(-5, 60)\n",
    "plt.title('Trip duration by gender')\n",
    "plt.xlabel('Member Gender')\n",
    "plt.ylabel('Trip duration in minutes')\n",
    "plt.show()"
   ]
  },
  {
   "cell_type": "markdown",
   "id": "b3e86dbe",
   "metadata": {
    "slideshow": {
     "slide_type": "subslide"
    }
   },
   "source": [
    "I reduced the y axis(duration_minutes) to 60 minutes so we can have a better view of the plot. the plot shows that the female and other gender have trip duration that is slightly higher than the male gender."
   ]
  },
  {
   "cell_type": "markdown",
   "id": "5cb075f2",
   "metadata": {
    "slideshow": {
     "slide_type": "slide"
    }
   },
   "source": [
    "## Distribution of the users\n",
    "Lets investigate the number of customers per user type using a bar chart."
   ]
  },
  {
   "cell_type": "code",
   "execution_count": 91,
   "id": "7693f177",
   "metadata": {
    "slideshow": {
     "slide_type": "subslide"
    }
   },
   "outputs": [
    {
     "data": {
      "image/png": "[encoded data removed]",
      "text/plain": [
       "<Figure size 720x576 with 1 Axes>"
      ]
     },
     "metadata": {
      "needs_background": "light"
     },
     "output_type": "display_data"
    }
   ],
   "source": [
    "# Lets plot a bar chart to show the user type\n",
    "plt.figure(figsize=[10,8])\n",
    "user_category = bike_df1['user_type'].value_counts().index\n",
    "sns.countplot(data = bike_df1, x = 'user_type', order = user_category)\n",
    "plt.title('User distribution')\n",
    "plt.xlabel('User_ type')\n",
    "plt.ylabel('Number of users')\n",
    "plt.show()"
   ]
  },
  {
   "cell_type": "code",
   "execution_count": 92,
   "id": "016bb061",
   "metadata": {
    "slideshow": {
     "slide_type": "skip"
    }
   },
   "outputs": [
    {
     "data": {
      "text/plain": [
       "Subscriber    163544\n",
       "Customer       19868\n",
       "Name: user_type, dtype: int64"
      ]
     },
     "execution_count": 92,
     "metadata": {},
     "output_type": "execute_result"
    }
   ],
   "source": [
    "bike_df1.user_type.value_counts()"
   ]
  },
  {
   "cell_type": "markdown",
   "id": "0cfba956",
   "metadata": {
    "slideshow": {
     "slide_type": "subslide"
    }
   },
   "source": [
    "From the above, it can be seen that majority of the users are subscribers (163,544) while the remaining 19,868 users are customers. This means that 89.2% of users are subscribers, they use the bikes more than the customers, and 10.8% of users are customers."
   ]
  },
  {
   "cell_type": "markdown",
   "id": "0b211160",
   "metadata": {
    "slideshow": {
     "slide_type": "slide"
    }
   },
   "source": [
    "## Trip duration by user type"
   ]
  },
  {
   "cell_type": "code",
   "execution_count": 93,
   "id": "0f8f6a34",
   "metadata": {
    "slideshow": {
     "slide_type": "subslide"
    }
   },
   "outputs": [
    {
     "data": {
      "image/png": "[encoded data removed]",
      "text/plain": [
       "<Figure size 720x432 with 1 Axes>"
      ]
     },
     "metadata": {
      "needs_background": "light"
     },
     "output_type": "display_data"
    }
   ],
   "source": [
    "plt.figure(figsize =[10,6])\n",
    "sns.boxplot(x = 'user_type', y='duration_minutes', data = bike_df1, palette='Set2', order = ['Subscriber', 'Customer'])\n",
    "plt.ylim(-5, 60)\n",
    "plt.title('Trip duration by user type')\n",
    "plt.xlabel('User type')\n",
    "plt.ylabel('Trip duration in minutes')\n",
    "plt.show()"
   ]
  },
  {
   "cell_type": "markdown",
   "id": "53b84186",
   "metadata": {
    "slideshow": {
     "slide_type": "subslide"
    }
   },
   "source": [
    "From the above plot, we can see that the customers use the bike for longer duration than the subscribers."
   ]
  },
  {
   "cell_type": "code",
   "execution_count": 94,
   "id": "4d76600e",
   "metadata": {
    "slideshow": {
     "slide_type": "skip"
    }
   },
   "outputs": [],
   "source": [
    "subscriber=bike_df1['user_type']=='Subscriber'\n",
    "customer = bike_df1['user_type']=='Customer'"
   ]
  },
  {
   "cell_type": "code",
   "execution_count": 95,
   "id": "077806f2",
   "metadata": {
    "slideshow": {
     "slide_type": "skip"
    }
   },
   "outputs": [
    {
     "data": {
      "text/plain": [
       "10.671061304603203"
      ]
     },
     "execution_count": 95,
     "metadata": {},
     "output_type": "execute_result"
    }
   ],
   "source": [
    "bike_df1[subscriber].duration_minutes.mean()"
   ]
  },
  {
   "cell_type": "code",
   "execution_count": 96,
   "id": "beb036e0",
   "metadata": {
    "slideshow": {
     "slide_type": "skip"
    }
   },
   "outputs": [
    {
     "data": {
      "text/plain": [
       "23.87441698543723"
      ]
     },
     "execution_count": 96,
     "metadata": {},
     "output_type": "execute_result"
    }
   ],
   "source": [
    "bike_df1[customer].duration_minutes.mean()"
   ]
  },
  {
   "cell_type": "markdown",
   "id": "86907847",
   "metadata": {
    "slideshow": {
     "slide_type": "subslide"
    }
   },
   "source": [
    "The analysis shows that the subscribers use the bike ride for an average of 10 minutes while the customers use the bike ride for an average of 23 minutes."
   ]
  },
  {
   "cell_type": "markdown",
   "id": "996d5606",
   "metadata": {
    "slideshow": {
     "slide_type": "slide"
    }
   },
   "source": [
    "## Distribution of user type by age group\n",
    "I would like to investigate which age group has more users in each of the user type. To achieve this, I will divide member_age into 4 age groups namely teenagers, youths and adults and Retirees"
   ]
  },
  {
   "cell_type": "code",
   "execution_count": 97,
   "id": "4561c810",
   "metadata": {
    "slideshow": {
     "slide_type": "skip"
    }
   },
   "outputs": [
    {
     "data": {
      "text/html": [
       "<div>\n",
       "<style scoped>\n",
       "    .dataframe tbody tr th:only-of-type {\n",
       "        vertical-align: middle;\n",
       "    }\n",
       "\n",
       "    .dataframe tbody tr th {\n",
       "        vertical-align: top;\n",
       "    }\n",
       "\n",
       "    .dataframe thead th {\n",
       "        text-align: right;\n",
       "    }\n",
       "</style>\n",
       "<table border=\"1\" class=\"dataframe\">\n",
       "  <thead>\n",
       "    <tr style=\"text-align: right;\">\n",
       "      <th></th>\n",
       "      <th>duration_sec</th>\n",
       "      <th>start_time</th>\n",
       "      <th>end_time</th>\n",
       "      <th>start_station_id</th>\n",
       "      <th>start_station_name</th>\n",
       "      <th>start_station_latitude</th>\n",
       "      <th>start_station_longitude</th>\n",
       "      <th>end_station_id</th>\n",
       "      <th>end_station_name</th>\n",
       "      <th>end_station_latitude</th>\n",
       "      <th>...</th>\n",
       "      <th>bike_id</th>\n",
       "      <th>user_type</th>\n",
       "      <th>member_birth_year</th>\n",
       "      <th>member_gender</th>\n",
       "      <th>bike_share_for_all_trip</th>\n",
       "      <th>start_hour</th>\n",
       "      <th>start_day</th>\n",
       "      <th>start_month</th>\n",
       "      <th>duration_minutes</th>\n",
       "      <th>member_age</th>\n",
       "    </tr>\n",
       "  </thead>\n",
       "  <tbody>\n",
       "    <tr>\n",
       "      <th>0</th>\n",
       "      <td>52185</td>\n",
       "      <td>2019-02-28 17:32:10.145</td>\n",
       "      <td>2019-03-01 08:01:55.975</td>\n",
       "      <td>21.0</td>\n",
       "      <td>Montgomery St BART Station (Market St at 2nd St)</td>\n",
       "      <td>37.789625</td>\n",
       "      <td>-122.400811</td>\n",
       "      <td>13.0</td>\n",
       "      <td>Commercial St at Montgomery St</td>\n",
       "      <td>37.794231</td>\n",
       "      <td>...</td>\n",
       "      <td>4902</td>\n",
       "      <td>Customer</td>\n",
       "      <td>1984.0</td>\n",
       "      <td>Male</td>\n",
       "      <td>False</td>\n",
       "      <td>17</td>\n",
       "      <td>3</td>\n",
       "      <td>2</td>\n",
       "      <td>869.750000</td>\n",
       "      <td>35.0</td>\n",
       "    </tr>\n",
       "    <tr>\n",
       "      <th>1</th>\n",
       "      <td>42521</td>\n",
       "      <td>2019-02-28 18:53:21.789</td>\n",
       "      <td>2019-03-01 06:42:03.056</td>\n",
       "      <td>23.0</td>\n",
       "      <td>The Embarcadero at Steuart St</td>\n",
       "      <td>37.791464</td>\n",
       "      <td>-122.391034</td>\n",
       "      <td>81.0</td>\n",
       "      <td>Berry St at 4th St</td>\n",
       "      <td>37.775880</td>\n",
       "      <td>...</td>\n",
       "      <td>2535</td>\n",
       "      <td>Customer</td>\n",
       "      <td>NaN</td>\n",
       "      <td>NaN</td>\n",
       "      <td>False</td>\n",
       "      <td>18</td>\n",
       "      <td>3</td>\n",
       "      <td>2</td>\n",
       "      <td>708.683333</td>\n",
       "      <td>NaN</td>\n",
       "    </tr>\n",
       "    <tr>\n",
       "      <th>2</th>\n",
       "      <td>61854</td>\n",
       "      <td>2019-02-28 12:13:13.218</td>\n",
       "      <td>2019-03-01 05:24:08.146</td>\n",
       "      <td>86.0</td>\n",
       "      <td>Market St at Dolores St</td>\n",
       "      <td>37.769305</td>\n",
       "      <td>-122.426826</td>\n",
       "      <td>3.0</td>\n",
       "      <td>Powell St BART Station (Market St at 4th St)</td>\n",
       "      <td>37.786375</td>\n",
       "      <td>...</td>\n",
       "      <td>5905</td>\n",
       "      <td>Customer</td>\n",
       "      <td>1972.0</td>\n",
       "      <td>Male</td>\n",
       "      <td>False</td>\n",
       "      <td>12</td>\n",
       "      <td>3</td>\n",
       "      <td>2</td>\n",
       "      <td>1030.900000</td>\n",
       "      <td>47.0</td>\n",
       "    </tr>\n",
       "  </tbody>\n",
       "</table>\n",
       "<p>3 rows × 21 columns</p>\n",
       "</div>"
      ],
      "text/plain": [
       "   duration_sec               start_time                 end_time  \\\n",
       "0         52185  2019-02-28 17:32:10.145  2019-03-01 08:01:55.975   \n",
       "1         42521  2019-02-28 18:53:21.789  2019-03-01 06:42:03.056   \n",
       "2         61854  2019-02-28 12:13:13.218  2019-03-01 05:24:08.146   \n",
       "\n",
       "   start_station_id                                start_station_name  \\\n",
       "0              21.0  Montgomery St BART Station (Market St at 2nd St)   \n",
       "1              23.0                     The Embarcadero at Steuart St   \n",
       "2              86.0                           Market St at Dolores St   \n",
       "\n",
       "   start_station_latitude  start_station_longitude  end_station_id  \\\n",
       "0               37.789625              -122.400811            13.0   \n",
       "1               37.791464              -122.391034            81.0   \n",
       "2               37.769305              -122.426826             3.0   \n",
       "\n",
       "                               end_station_name  end_station_latitude  ...  \\\n",
       "0                Commercial St at Montgomery St             37.794231  ...   \n",
       "1                            Berry St at 4th St             37.775880  ...   \n",
       "2  Powell St BART Station (Market St at 4th St)             37.786375  ...   \n",
       "\n",
       "   bike_id  user_type member_birth_year  member_gender  \\\n",
       "0     4902   Customer            1984.0           Male   \n",
       "1     2535   Customer               NaN            NaN   \n",
       "2     5905   Customer            1972.0           Male   \n",
       "\n",
       "  bike_share_for_all_trip  start_hour  start_day  start_month  \\\n",
       "0                   False          17          3            2   \n",
       "1                   False          18          3            2   \n",
       "2                   False          12          3            2   \n",
       "\n",
       "   duration_minutes  member_age  \n",
       "0        869.750000        35.0  \n",
       "1        708.683333         NaN  \n",
       "2       1030.900000        47.0  \n",
       "\n",
       "[3 rows x 21 columns]"
      ]
     },
     "execution_count": 97,
     "metadata": {},
     "output_type": "execute_result"
    }
   ],
   "source": [
    "# To calculate the Age from the member_birth_year column.\n",
    "#code\n",
    "bike_df1['member_age']=2019-bike_df1['member_birth_year']\n",
    "#Test\n",
    "bike_df1.head(3)"
   ]
  },
  {
   "cell_type": "code",
   "execution_count": 98,
   "id": "becf6f3f",
   "metadata": {
    "scrolled": false,
    "slideshow": {
     "slide_type": "skip"
    }
   },
   "outputs": [],
   "source": [
    "# Age groupings\n",
    "bike_df1['age_group']= bike_df1['member_age'].apply(lambda x: 'Teenagers' if 13<x<=19\n",
    "else 'Youth' if 19<x<=30 \n",
    "else 'Adult' if 30<x<=50 \n",
    "else 'Senior Adult' if 50<x \n",
    "else x)"
   ]
  },
  {
   "cell_type": "code",
   "execution_count": 99,
   "id": "ba75dfb2",
   "metadata": {
    "slideshow": {
     "slide_type": "notes"
    }
   },
   "outputs": [
    {
     "data": {
      "text/plain": [
       "Adult           85936\n",
       "Youth           72643\n",
       "Senior Adult    14856\n",
       "Teenagers        1712\n",
       "Name: age_group, dtype: int64"
      ]
     },
     "execution_count": 99,
     "metadata": {},
     "output_type": "execute_result"
    }
   ],
   "source": [
    "# Lets have the value counts of the age group.\n",
    "bike_df1.age_group.value_counts()"
   ]
  },
  {
   "cell_type": "markdown",
   "id": "53cc2bb3",
   "metadata": {
    "slideshow": {
     "slide_type": "notes"
    }
   },
   "source": [
    "The above analysis shows that the bike service had fewer teenagers (age group between 13 and 19) and more of adults (age group between 30 and 50"
   ]
  },
  {
   "cell_type": "code",
   "execution_count": 100,
   "id": "e4c7775e",
   "metadata": {
    "slideshow": {
     "slide_type": "subslide"
    }
   },
   "outputs": [
    {
     "data": {
      "image/png": "[encoded data removed]",
      "text/plain": [
       "<Figure size 2520x576 with 1 Axes>"
      ]
     },
     "metadata": {
      "needs_background": "light"
     },
     "output_type": "display_data"
    }
   ],
   "source": [
    "plt.figure(figsize=[35,8])\n",
    "plt.subplot(1, 2, 1)\n",
    "age_group_chart = sns.countplot(data=bike_df1, x = 'user_type', hue ='age_group', order = bike_df1.user_type.value_counts().index)\n",
    "age_group_chart.set_xlabel('User type')\n",
    "age_group_chart.set_title('Trip duration by user type and age group')\n",
    "age_group_chart.set_ylabel('Trips');\n",
    "\n"
   ]
  },
  {
   "cell_type": "markdown",
   "id": "45e5d33b",
   "metadata": {
    "slideshow": {
     "slide_type": "notes"
    }
   },
   "source": [
    "From the above chart it can be observed that adults users are the most users in both user group while teenagers are the least users in both user groups."
   ]
  },
  {
   "cell_type": "markdown",
   "id": "f8ec6f48",
   "metadata": {
    "slideshow": {
     "slide_type": "slide"
    }
   },
   "source": [
    "## Distribution of duration in seconds based on user type and gender"
   ]
  },
  {
   "cell_type": "code",
   "execution_count": 101,
   "id": "906798a3",
   "metadata": {
    "slideshow": {
     "slide_type": "slide"
    }
   },
   "outputs": [
    {
     "data": {
      "text/plain": [
       "<Figure size 1440x1080 with 0 Axes>"
      ]
     },
     "metadata": {},
     "output_type": "display_data"
    },
    {
     "data": {
      "image/png": "[encoded data removed]",
      "text/plain": [
       "<Figure size 522.375x216 with 2 Axes>"
      ]
     },
     "metadata": {
      "needs_background": "light"
     },
     "output_type": "display_data"
    }
   ],
   "source": [
    "plt.figure(figsize =[20, 15])\n",
    "chart1 = sns.FacetGrid(data= bike_df1, col = 'user_type', col_order = ['Subscriber', 'Customer'], hue = 'member_gender')\n",
    "chart1.map_dataframe(plt.scatter, 'member_gender', 'duration_sec', alpha = 0.46)\n",
    "chart1.set_axis_labels('member_gender', 'duration in sec')\n",
    "chart1.add_legend()\n",
    "plt.show()"
   ]
  },
  {
   "cell_type": "markdown",
   "id": "e90d4375",
   "metadata": {
    "slideshow": {
     "slide_type": "subslide"
    }
   },
   "source": [
    "From the plot above, the Customer and subscriber user types seem to behave the same way in their trip duration, apart from the other gender which has a slight difference in user type and trip duration."
   ]
  },
  {
   "cell_type": "markdown",
   "id": "c12fd07d",
   "metadata": {
    "slideshow": {
     "slide_type": "slide"
    }
   },
   "source": [
    "## Hourly rides per user type and age group\n",
    "Finally, Lets look at the number of rides in each hour of the day for user types and age groups."
   ]
  },
  {
   "cell_type": "code",
   "execution_count": 102,
   "id": "41d7a6ca",
   "metadata": {
    "scrolled": true,
    "slideshow": {
     "slide_type": "subslide"
    }
   },
   "outputs": [
    {
     "data": {
      "image/png": "[encoded data removed]",
      "text/plain": [
       "<Figure size 817.125x360 with 2 Axes>"
      ]
     },
     "metadata": {
      "needs_background": "light"
     },
     "output_type": "display_data"
    }
   ],
   "source": [
    "hourly_age_group = sns.catplot(data = bike_df1, x = 'start_hour', col = 'user_type', col_order=['Subscriber', 'Customer'], hue = 'age_group', kind = 'count', sharey = False)\n",
    "hourly_age_group.set_axis_labels(\"Hours of the day\", \" No of trips\")\n",
    "hourly_age_group._legend.set_title(\"Age group\")\n",
    "hourly_age_group.set_titles(\"{col_name}\")\n",
    "hourly_age_group.fig.suptitle('Hourly rides per user type and age group', y = 1.05, fontsize = 11);"
   ]
  },
  {
   "cell_type": "markdown",
   "id": "d174647a",
   "metadata": {
    "slideshow": {
     "slide_type": "subslide"
    }
   },
   "source": [
    "From the chart above, we can see that the trip gets higher from 8am which is when workers need to get to work with adult age group having the highest number of trips, there is also a peak at 5pm which is when workers return from work. It can also be observed thatfor both type of users (customers and subscribers) the adult age group still takes the highest rides. it can also be noticed that from 7pm the numbe of rides for youths gets higher than other age group for both customers and subscribers."
   ]
  },
  {
   "cell_type": "code",
   "execution_count": null,
   "id": "46d2815e",
   "metadata": {
    "slideshow": {
     "slide_type": "skip"
    }
   },
   "outputs": [
    {
     "name": "stdout",
     "output_type": "stream",
     "text": [
      "[NbConvertApp] Converting notebook Project_3_slide_deck_new.ipynb to slides\n",
      "[NbConvertApp] Writing 736889 bytes to Project_3_slide_deck_new.slides.html\n",
      "[NbConvertApp] Redirecting reveal.js requests to https://cdnjs.cloudflare.com/ajax/libs/reveal.js/3.5.0\n",
      "Serving your slides at http://127.0.0.1:8000/Project_3_slide_deck_new.slides.html\n",
      "Use Control-C to stop this server\n"
     ]
    }
   ],
   "source": [
    "!jupyter nbconvert Project_3_slide_deck_new.ipynb --to slides --post serve --no-input --no-prompt"
   ]
  },
  {
   "cell_type": "code",
   "execution_count": null,
   "id": "66148abe",
   "metadata": {},
   "outputs": [],
   "source": []
  }
 ],
 "metadata": {
  "celltoolbar": "Slideshow",
  "kernelspec": {
   "display_name": "Python 3 (ipykernel)",
   "language": "python",
   "name": "python3"
  },
  "language_info": {
   "codemirror_mode": {
    "name": "ipython",
    "version": 3
   },
   "file_extension": ".py",
   "mimetype": "text/x-python",
   "name": "python",
   "nbconvert_exporter": "python",
   "pygments_lexer": "ipython3",
   "version": "3.9.12"
  }
 },
 "nbformat": 4,
 "nbformat_minor": 5
}
